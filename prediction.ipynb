{
 "cells": [
  {
   "cell_type": "code",
   "execution_count": 1,
   "metadata": {},
   "outputs": [],
   "source": [
    "import numpy as np\n",
    "import pandas as pd\n",
    "import networkx as nx\n",
    "import matplotlib.pyplot as plt\n",
    "import plotly.express as px"
   ]
  },
  {
   "cell_type": "markdown",
   "metadata": {},
   "source": [
    "# Reading Data"
   ]
  },
  {
   "cell_type": "code",
   "execution_count": 13,
   "metadata": {},
   "outputs": [],
   "source": [
    "def create_df():\n",
    "    data = {'Source':[], 'Sink':[]}\n",
    "    with open(\"train.txt\", \"r\") as f:\n",
    "        for raw_line in f:\n",
    "            line = raw_line.strip().split(\"\\t\")\n",
    "            data['Source'] += [line[0]]*(len(line)-1)\n",
    "            data['Sink'] += line[1:]\n",
    "    pd_data = pd.DataFrame(data=data)\n",
    "#     pd_data[['Source', 'Sink']] = pd_data[['Source', 'Sink']].apply(pd.to_numeric)\n",
    "    pd_data = pd_data.drop_duplicates(keep=False)\n",
    "    return pd_data"
   ]
  },
  {
   "cell_type": "code",
   "execution_count": 14,
   "metadata": {},
   "outputs": [],
   "source": [
    "def read_sub():\n",
    "    with open('test-public.txt', 'r') as f:\n",
    "        # skip the header\n",
    "        f.readline()\n",
    "        data = {'Source':[], 'Sink':[]}\n",
    "        for raw_line in f:\n",
    "            line = raw_line.strip().split(\"\\t\")\n",
    "            data['Source'].append(line[1])\n",
    "            data['Sink'].append(line[2])\n",
    "        return pd.DataFrame(data=data)"
   ]
  },
  {
   "cell_type": "code",
   "execution_count": 15,
   "metadata": {
    "scrolled": true
   },
   "outputs": [],
   "source": [
    "data = create_df()"
   ]
  },
  {
   "cell_type": "code",
   "execution_count": 16,
   "metadata": {},
   "outputs": [
    {
     "data": {
      "text/html": [
       "<div>\n",
       "<style scoped>\n",
       "    .dataframe tbody tr th:only-of-type {\n",
       "        vertical-align: middle;\n",
       "    }\n",
       "\n",
       "    .dataframe tbody tr th {\n",
       "        vertical-align: top;\n",
       "    }\n",
       "\n",
       "    .dataframe thead th {\n",
       "        text-align: right;\n",
       "    }\n",
       "</style>\n",
       "<table border=\"1\" class=\"dataframe\">\n",
       "  <thead>\n",
       "    <tr style=\"text-align: right;\">\n",
       "      <th></th>\n",
       "      <th>Source</th>\n",
       "      <th>Sink</th>\n",
       "    </tr>\n",
       "  </thead>\n",
       "  <tbody>\n",
       "    <tr>\n",
       "      <th>137</th>\n",
       "      <td>540762</td>\n",
       "      <td>69174</td>\n",
       "    </tr>\n",
       "    <tr>\n",
       "      <th>138</th>\n",
       "      <td>540762</td>\n",
       "      <td>506428</td>\n",
       "    </tr>\n",
       "    <tr>\n",
       "      <th>139</th>\n",
       "      <td>540762</td>\n",
       "      <td>151344</td>\n",
       "    </tr>\n",
       "    <tr>\n",
       "      <th>140</th>\n",
       "      <td>540762</td>\n",
       "      <td>3586135</td>\n",
       "    </tr>\n",
       "    <tr>\n",
       "      <th>141</th>\n",
       "      <td>540762</td>\n",
       "      <td>3886121</td>\n",
       "    </tr>\n",
       "    <tr>\n",
       "      <th>142</th>\n",
       "      <td>540762</td>\n",
       "      <td>1737397</td>\n",
       "    </tr>\n",
       "    <tr>\n",
       "      <th>143</th>\n",
       "      <td>2129843</td>\n",
       "      <td>65840</td>\n",
       "    </tr>\n",
       "    <tr>\n",
       "      <th>144</th>\n",
       "      <td>2129843</td>\n",
       "      <td>3414168</td>\n",
       "    </tr>\n",
       "  </tbody>\n",
       "</table>\n",
       "</div>"
      ],
      "text/plain": [
       "      Source     Sink\n",
       "137   540762    69174\n",
       "138   540762   506428\n",
       "139   540762   151344\n",
       "140   540762  3586135\n",
       "141   540762  3886121\n",
       "142   540762  1737397\n",
       "143  2129843    65840\n",
       "144  2129843  3414168"
      ]
     },
     "execution_count": 16,
     "metadata": {},
     "output_type": "execute_result"
    }
   ],
   "source": [
    "data.iloc[137:145]"
   ]
  },
  {
   "cell_type": "code",
   "execution_count": 5,
   "metadata": {},
   "outputs": [
    {
     "data": {
      "text/plain": [
       "(23888876, 2)"
      ]
     },
     "execution_count": 5,
     "metadata": {},
     "output_type": "execute_result"
    }
   ],
   "source": [
    "data.shape"
   ]
  },
  {
   "cell_type": "code",
   "execution_count": 17,
   "metadata": {},
   "outputs": [],
   "source": [
    "data.to_csv(\"processed_train.csv\", header=False, index=False)"
   ]
  },
  {
   "cell_type": "code",
   "execution_count": 8,
   "metadata": {},
   "outputs": [],
   "source": [
    "sub_data = read_sub()"
   ]
  },
  {
   "cell_type": "code",
   "execution_count": 9,
   "metadata": {},
   "outputs": [
    {
     "data": {
      "text/html": [
       "<div>\n",
       "<style scoped>\n",
       "    .dataframe tbody tr th:only-of-type {\n",
       "        vertical-align: middle;\n",
       "    }\n",
       "\n",
       "    .dataframe tbody tr th {\n",
       "        vertical-align: top;\n",
       "    }\n",
       "\n",
       "    .dataframe thead th {\n",
       "        text-align: right;\n",
       "    }\n",
       "</style>\n",
       "<table border=\"1\" class=\"dataframe\">\n",
       "  <thead>\n",
       "    <tr style=\"text-align: right;\">\n",
       "      <th></th>\n",
       "      <th>Source</th>\n",
       "      <th>Sink</th>\n",
       "    </tr>\n",
       "  </thead>\n",
       "  <tbody>\n",
       "    <tr>\n",
       "      <th>0</th>\n",
       "      <td>3563811</td>\n",
       "      <td>3600160</td>\n",
       "    </tr>\n",
       "    <tr>\n",
       "      <th>1</th>\n",
       "      <td>2052043</td>\n",
       "      <td>1401960</td>\n",
       "    </tr>\n",
       "    <tr>\n",
       "      <th>2</th>\n",
       "      <td>4517994</td>\n",
       "      <td>1690636</td>\n",
       "    </tr>\n",
       "    <tr>\n",
       "      <th>3</th>\n",
       "      <td>1660006</td>\n",
       "      <td>4349447</td>\n",
       "    </tr>\n",
       "    <tr>\n",
       "      <th>4</th>\n",
       "      <td>581111</td>\n",
       "      <td>1882617</td>\n",
       "    </tr>\n",
       "  </tbody>\n",
       "</table>\n",
       "</div>"
      ],
      "text/plain": [
       "    Source     Sink\n",
       "0  3563811  3600160\n",
       "1  2052043  1401960\n",
       "2  4517994  1690636\n",
       "3  1660006  4349447\n",
       "4   581111  1882617"
      ]
     },
     "execution_count": 9,
     "metadata": {},
     "output_type": "execute_result"
    }
   ],
   "source": [
    "sub_data.head()"
   ]
  },
  {
   "cell_type": "code",
   "execution_count": 10,
   "metadata": {},
   "outputs": [
    {
     "data": {
      "text/plain": [
       "(2000, 2)"
      ]
     },
     "execution_count": 10,
     "metadata": {},
     "output_type": "execute_result"
    }
   ],
   "source": [
    "sub_data.shape"
   ]
  },
  {
   "cell_type": "code",
   "execution_count": 29,
   "metadata": {},
   "outputs": [],
   "source": [
    "sub_nodes = set(sub_data['Source'].value_counts().keys()).union(sub_data['Sink'].value_counts().keys())"
   ]
  },
  {
   "cell_type": "code",
   "execution_count": 32,
   "metadata": {},
   "outputs": [],
   "source": [
    "reduced_df = data[(data['Source'].isin(sub_nodes)) | (data['Sink'].isin(sub_nodes))]"
   ]
  },
  {
   "cell_type": "code",
   "execution_count": 33,
   "metadata": {},
   "outputs": [
    {
     "data": {
      "text/plain": [
       "(5037682, 2)"
      ]
     },
     "execution_count": 33,
     "metadata": {},
     "output_type": "execute_result"
    }
   ],
   "source": [
    "reduced_df.shape"
   ]
  },
  {
   "cell_type": "code",
   "execution_count": 35,
   "metadata": {},
   "outputs": [],
   "source": [
    "data = reduced_df"
   ]
  },
  {
   "cell_type": "code",
   "execution_count": 36,
   "metadata": {},
   "outputs": [],
   "source": [
    "data.to_csv(\"processed_train_reduced.csv\", header=False, index=False)"
   ]
  },
  {
   "cell_type": "markdown",
   "metadata": {},
   "source": [
    "# Data Analysis"
   ]
  },
  {
   "cell_type": "markdown",
   "metadata": {},
   "source": [
    "### Visualising using networkx"
   ]
  },
  {
   "cell_type": "code",
   "execution_count": 37,
   "metadata": {},
   "outputs": [],
   "source": [
    "g = nx.read_edgelist('processed_train_reduced.csv',delimiter=',',create_using=nx.DiGraph(),nodetype=int)"
   ]
  },
  {
   "cell_type": "code",
   "execution_count": 38,
   "metadata": {},
   "outputs": [
    {
     "name": "stdout",
     "output_type": "stream",
     "text": [
      "Name: \n",
      "Type: DiGraph\n",
      "Number of nodes: 1969544\n",
      "Number of edges: 5037682\n",
      "Average in degree:   2.5578\n",
      "Average out degree:   2.5578\n"
     ]
    }
   ],
   "source": [
    "print(nx.info(g))"
   ]
  },
  {
   "cell_type": "code",
   "execution_count": 39,
   "metadata": {},
   "outputs": [
    {
     "data": {
      "image/png": "[encoded data removed]",
      "text/plain": [
       "<Figure size 720x432 with 1 Axes>"
      ]
     },
     "metadata": {
      "needs_background": "light"
     },
     "output_type": "display_data"
    }
   ],
   "source": [
    "indegree_dist = list(dict(g.in_degree()).values())\n",
    "indegree_dist.sort()\n",
    "plt.figure(figsize=(10,6))\n",
    "plt.plot(indegree_dist)\n",
    "plt.xlabel('Index')\n",
    "plt.ylabel('# Of Followers')\n",
    "plt.show()"
   ]
  },
  {
   "cell_type": "code",
   "execution_count": 40,
   "metadata": {},
   "outputs": [
    {
     "name": "stdout",
     "output_type": "stream",
     "text": [
      "90 percentile value is 5.0\n",
      "91 percentile value is 5.0\n",
      "92 percentile value is 6.0\n",
      "93 percentile value is 6.0\n",
      "94 percentile value is 7.0\n",
      "95 percentile value is 8.0\n",
      "96 percentile value is 10.0\n",
      "97 percentile value is 12.0\n",
      "98 percentile value is 15.0\n",
      "99 percentile value is 22.0\n",
      "100 percentile value is 4841.0\n"
     ]
    }
   ],
   "source": [
    "for i in range(0,11):\n",
    "    print(90+i,'percentile value is',np.percentile(indegree_dist, 90+i))"
   ]
  },
  {
   "cell_type": "code",
   "execution_count": 41,
   "metadata": {},
   "outputs": [
    {
     "name": "stdout",
     "output_type": "stream",
     "text": [
      "99.1 percentile value is 23.0\n",
      "99.2 percentile value is 24.0\n",
      "99.3 percentile value is 26.0\n",
      "99.4 percentile value is 28.0\n",
      "99.5 percentile value is 31.0\n",
      "99.6 percentile value is 35.0\n",
      "99.7 percentile value is 42.0\n",
      "99.8 percentile value is 52.0\n",
      "99.9 percentile value is 81.0\n",
      "100.0 percentile value is 4841.0\n"
     ]
    }
   ],
   "source": [
    "for i in range(10,110,10):\n",
    "    print(99+(i/100),'percentile value is',np.percentile(indegree_dist,99+(i/100)))"
   ]
  },
  {
   "cell_type": "code",
   "execution_count": 42,
   "metadata": {},
   "outputs": [
    {
     "name": "stdout",
     "output_type": "stream",
     "text": [
      "# of persons who have no followers 1297 and % is 0.06585280653796005\n"
     ]
    }
   ],
   "source": [
    "print('# of persons who have no followers' ,sum(np.array(indegree_dist)==0),'and % is',\n",
    "        sum(np.array(indegree_dist)==0)*100/len(indegree_dist))"
   ]
  },
  {
   "cell_type": "code",
   "execution_count": 43,
   "metadata": {},
   "outputs": [
    {
     "data": {
      "image/png": "[encoded data removed]",
      "text/plain": [
       "<Figure size 720x432 with 1 Axes>"
      ]
     },
     "metadata": {
      "needs_background": "light"
     },
     "output_type": "display_data"
    }
   ],
   "source": [
    "outdegree_dist = list(dict(g.out_degree()).values())\n",
    "outdegree_dist.sort()\n",
    "plt.figure(figsize=(10,6))\n",
    "plt.plot(outdegree_dist)\n",
    "plt.xlabel('Index')\n",
    "plt.ylabel('# Of Followee')\n",
    "plt.show()"
   ]
  },
  {
   "cell_type": "code",
   "execution_count": 44,
   "metadata": {},
   "outputs": [
    {
     "name": "stdout",
     "output_type": "stream",
     "text": [
      "99.1 percentile value is 1.0\n",
      "99.2 percentile value is 3.0\n",
      "99.3 percentile value is 5.0\n",
      "99.4 percentile value is 8.0\n",
      "99.5 percentile value is 12.0\n",
      "99.6 percentile value is 17.0\n",
      "99.7 percentile value is 26.0\n",
      "99.8 percentile value is 45.0\n",
      "99.9 percentile value is 106.0\n",
      "100.0 percentile value is 759391.0\n"
     ]
    }
   ],
   "source": [
    "for i in range(10,110,10):\n",
    "    print(99+(i/100),'percentile value is',np.percentile(outdegree_dist, 99+(i/100)))"
   ]
  },
  {
   "cell_type": "code",
   "execution_count": 45,
   "metadata": {},
   "outputs": [
    {
     "name": "stdout",
     "output_type": "stream",
     "text": [
      "99.9 percentile value is 106.0\n",
      "99.91 percentile value is 123.0\n",
      "99.92 percentile value is 142.0\n",
      "99.93 percentile value is 172.0\n",
      "99.94 percentile value is 213.0\n",
      "99.95 percentile value is 269.0\n",
      "99.96 percentile value is 368.18279999983497\n",
      "99.97 percentile value is 547.4113000005018\n",
      "99.98 percentile value is 1000.0968000004068\n",
      "99.99 percentile value is 2509.8225999982096\n",
      "100.0 percentile value is 759391.0\n"
     ]
    }
   ],
   "source": [
    "for i in range(900,1010,10):\n",
    "    print(99+(i/1000),'percentile value is',np.percentile(outdegree_dist, 99+(i/1000)))"
   ]
  },
  {
   "cell_type": "code",
   "execution_count": 46,
   "metadata": {},
   "outputs": [
    {
     "name": "stdout",
     "output_type": "stream",
     "text": [
      "# of persons those are not following anyone are 1951402 and % is 99.07887307925083\n"
     ]
    }
   ],
   "source": [
    "print('# of persons those are not following anyone are', sum(np.array(outdegree_dist)==0),'and % is',\n",
    "        sum(np.array(outdegree_dist)==0)*100/len(outdegree_dist))"
   ]
  },
  {
   "cell_type": "markdown",
   "metadata": {},
   "source": [
    "# Negative Data preparing and Train-validation split"
   ]
  },
  {
   "cell_type": "code",
   "execution_count": 47,
   "metadata": {},
   "outputs": [
    {
     "name": "stdout",
     "output_type": "stream",
     "text": [
      "Name: \n",
      "Type: DiGraph\n",
      "Number of nodes: 1969544\n",
      "Number of edges: 5037682\n",
      "Average in degree:   2.5578\n",
      "Average out degree:   2.5578\n"
     ]
    }
   ],
   "source": [
    "print(nx.info(g))"
   ]
  },
  {
   "cell_type": "markdown",
   "metadata": {},
   "source": [
    "### generate random missing edge"
   ]
  },
  {
   "cell_type": "code",
   "execution_count": 48,
   "metadata": {},
   "outputs": [],
   "source": [
    "import random\n",
    "import csv\n",
    "# getting the processed connection\n",
    "raw_connection = csv.reader(open('processed_train.csv', 'r'))\n",
    "\n",
    "exist_edges = {}\n",
    "\n",
    "for edge in raw_connection:\n",
    "    exist_edges[(edge[0], edge[1])] = 1\n",
    "\n",
    "# in order to prevent overfitting, we generate the same number of negative edge\n",
    "missing_edges = set()\n",
    "while(len(missing_edges) < 5037682):\n",
    "    a = random.randint(1, 1969544)\n",
    "    b = random.randint(1, 1969544)\n",
    "    if a == b:\n",
    "        continue\n",
    "        \n",
    "    existance = exist_edges.get((a,b), -1)\n",
    "    if existance == -1:\n",
    "        try:\n",
    "            # if distance within 2, that means they share a common follower and very likely to be friends in real world or at least know each others\n",
    "            if nx.shortest_path_length(g, source=a, target=b) > 2:\n",
    "                missing_edges.add((a,b))\n",
    "            else:\n",
    "                continue\n",
    "        except:\n",
    "            missing_edges.add((a,b))"
   ]
  },
  {
   "cell_type": "code",
   "execution_count": 49,
   "metadata": {},
   "outputs": [
    {
     "data": {
      "text/plain": [
       "5037682"
      ]
     },
     "execution_count": 49,
     "metadata": {},
     "output_type": "execute_result"
    }
   ],
   "source": [
    "len(missing_edges)"
   ]
  },
  {
   "cell_type": "code",
   "execution_count": 50,
   "metadata": {},
   "outputs": [],
   "source": [
    "import pickle\n",
    "pickle.dump(missing_edges, open('data/missing_edges_final.p', 'wb'))"
   ]
  },
  {
   "cell_type": "markdown",
   "metadata": {},
   "source": [
    "### Train-Test Partition"
   ]
  },
  {
   "cell_type": "code",
   "execution_count": 51,
   "metadata": {},
   "outputs": [],
   "source": [
    "negative_data = pd.DataFrame(list(missing_edges), columns=['Source', 'Sink'])"
   ]
  },
  {
   "cell_type": "code",
   "execution_count": 52,
   "metadata": {},
   "outputs": [
    {
     "data": {
      "text/plain": [
       "5037682"
      ]
     },
     "execution_count": 52,
     "metadata": {},
     "output_type": "execute_result"
    }
   ],
   "source": [
    "len(data)"
   ]
  },
  {
   "cell_type": "code",
   "execution_count": 53,
   "metadata": {},
   "outputs": [
    {
     "data": {
      "text/plain": [
       "5037682"
      ]
     },
     "execution_count": 53,
     "metadata": {},
     "output_type": "execute_result"
    }
   ],
   "source": [
    "len(negative_data)"
   ]
  },
  {
   "cell_type": "code",
   "execution_count": 54,
   "metadata": {},
   "outputs": [],
   "source": [
    "from sklearn.model_selection import train_test_split\n",
    "#Trian test split \n",
    "#positive links and negative links seperatly because we need positive training data only for creating graph and for feature generation\n",
    "X_train_pos, X_test_pos, y_train_pos, y_test_pos  = train_test_split(data, np.ones(len(data)), test_size=0.2, random_state=90051)\n",
    "X_train_neg, X_test_neg, y_train_neg, y_test_neg  = train_test_split(negative_data, np.zeros(len(negative_data)), test_size=0.2, random_state=90051)"
   ]
  },
  {
   "cell_type": "code",
   "execution_count": 55,
   "metadata": {},
   "outputs": [
    {
     "name": "stdout",
     "output_type": "stream",
     "text": [
      "============================================================\n",
      "Number of nodes in the train data graph with edges 4030145\n",
      "Number of nodes in the train data graph without edges 4030145\n",
      "============================================================\n",
      "Number of nodes in the test data graph with edges 1007537\n",
      "Number of nodes in the test data graph without edges 1007537\n"
     ]
    }
   ],
   "source": [
    "# !TODO the data is not perfectly balanced, maybe fixed this later\n",
    "print('='*60)\n",
    "print(\"Number of nodes in the train data graph with edges\", y_train_pos.shape[0])\n",
    "print(\"Number of nodes in the train data graph without edges\", y_train_neg.shape[0])\n",
    "print('='*60)\n",
    "print(\"Number of nodes in the test data graph with edges\", y_test_pos.shape[0])\n",
    "print(\"Number of nodes in the test data graph without edges\", y_test_neg.shape[0])"
   ]
  },
  {
   "cell_type": "code",
   "execution_count": 56,
   "metadata": {},
   "outputs": [],
   "source": [
    "#removing header and saving\n",
    "X_train_pos.to_csv('data/train_pos.csv',header=False, index=False)\n",
    "X_test_pos.to_csv('data/test_pos.csv',header=False, index=False)\n",
    "X_train_neg.to_csv('data/train_neg.csv',header=False, index=False)\n",
    "X_test_neg.to_csv('data/test_neg.csv',header=False, index=False)"
   ]
  },
  {
   "cell_type": "code",
   "execution_count": 57,
   "metadata": {},
   "outputs": [],
   "source": [
    "X_train = X_train_pos.append(X_train_neg, ignore_index=True)\n",
    "y_train = np.concatenate((y_train_pos, y_train_neg))\n",
    "X_test = X_test_pos.append(X_test_neg, ignore_index=True)\n",
    "y_test = np.concatenate((y_test_pos, y_test_neg))"
   ]
  },
  {
   "cell_type": "markdown",
   "metadata": {},
   "source": [
    "# Feature Engineering"
   ]
  },
  {
   "cell_type": "code",
   "execution_count": 58,
   "metadata": {},
   "outputs": [
    {
     "name": "stdout",
     "output_type": "stream",
     "text": [
      "Name: \n",
      "Type: DiGraph\n",
      "Number of nodes: 1682557\n",
      "Number of edges: 4030145\n",
      "Average in degree:   2.3953\n",
      "Average out degree:   2.3953\n",
      "Name: \n",
      "Type: DiGraph\n",
      "Number of nodes: 609802\n",
      "Number of edges: 1007537\n",
      "Average in degree:   1.6522\n",
      "Average out degree:   1.6522\n",
      "no of people common in train and test --  322815\n",
      "no of people present in train but not present in test --  1359742\n",
      "no of people present in test but not present in train --  286987\n",
      " % of people not there in Train but exist in Test in total Test data are 47.06232514816285 %\n"
     ]
    }
   ],
   "source": [
    "#generate train and test graph\n",
    "train_graph = nx.read_edgelist('data/train_pos.csv',delimiter=',',create_using=nx.DiGraph(),nodetype=int)\n",
    "print(nx.info(train_graph))"
   ]
  },
  {
   "cell_type": "code",
   "execution_count": 59,
   "metadata": {},
   "outputs": [],
   "source": [
    "def jaccard_followees(a, b):\n",
    "    try:\n",
    "        if len(set(train_graph.successors(a))) == 0 or len(set(train_graph.successors(b))) == 0:\n",
    "            return 0\n",
    "        else:\n",
    "            intersection = len(set(train_graph.successors(a)).intersection(set(train_graph.successors(b))))\n",
    "            union = len(set(train_graph.successors(a)).union(set(train_graph.successors(b))))\n",
    "            return intersection/union\n",
    "    except:\n",
    "        return 0\n",
    "    return sim\n",
    "\n",
    "def jaccard_followers(a,b):\n",
    "    try:\n",
    "        if set(train_graph.predecessors(a)) == 0 or len(set(g.predecessors(b))) == 0:\n",
    "            return 0\n",
    "        else:\n",
    "            intersection = len(set(train_graph.predecessors(a)).intersection(set(train_graph.predecessors(b))))\n",
    "            union = len(set(train_graph.predecessors(a)).union(set(train_graph.predecessors(b))))\n",
    "            return intersection/union\n",
    "    except:\n",
    "        return 0"
   ]
  },
  {
   "cell_type": "code",
   "execution_count": 60,
   "metadata": {},
   "outputs": [],
   "source": [
    "#for followees\n",
    "def cosine_followees(a,b):\n",
    "    try:\n",
    "        if len(set(train_graph.successors(a))) == 0 or len(set(train_graph.successors(b))) == 0:\n",
    "            return 0\n",
    "        else:\n",
    "            return (len(set(train_graph.successors(a)).intersection(set(train_graph.successors(b)))))/\\\n",
    "                                    (math.sqrt(len(set(train_graph.successors(a)))*len((set(train_graph.successors(b))))))\n",
    "    except:\n",
    "        return 0\n",
    "    \n",
    "def cosine_followers(a,b):\n",
    "    try:\n",
    "        \n",
    "        if len(set(train_graph.predecessors(a))) == 0 or len(set(train_graph.predecessors(b))) == 0:\n",
    "            return 0\n",
    "        else:\n",
    "            return (len(set(train_graph.predecessors(a)).intersection(set(train_graph.predecessors(b)))))/\\\n",
    "                                     (math.sqrt(len(set(train_graph.predecessors(a))))*(len(set(train_graph.predecessors(b)))))\n",
    "    except:\n",
    "        return 0"
   ]
  },
  {
   "cell_type": "code",
   "execution_count": 62,
   "metadata": {},
   "outputs": [
    {
     "name": "stdout",
     "output_type": "stream",
     "text": [
      "min 5.889692842287857e-07\n",
      "max 0.0001776327221753948\n",
      "mean 5.94333505509381e-07\n"
     ]
    }
   ],
   "source": [
    "# caclulating the page rank for each node pair\n",
    "pr = nx.pagerank(train_graph, alpha=0.85)\n",
    "pickle.dump(pr,open('data/page_rank.p','wb'))\n",
    "# use the mean for all the data points which are part of the test dataset but are not in the training dataset\n",
    "mean_pr = float(sum(pr.values())) / len(pr)\n",
    "\n",
    "print('min',pr[min(pr, key=pr.get)])\n",
    "print('max',pr[max(pr, key=pr.get)])\n",
    "print('mean', mean_pr)"
   ]
  },
  {
   "cell_type": "code",
   "execution_count": 63,
   "metadata": {},
   "outputs": [],
   "source": [
    "def compute_shortest_path_length(a,b):\n",
    "    p = -1\n",
    "    try:\n",
    "        # if the edge already exist, we first remove the edge which let our model better understand the graph\n",
    "        if train_graph.has_edge(a,b):\n",
    "            train_graph.remove_edge(a,b)\n",
    "            p= nx.shortest_path_length(train_graph,source=a,target=b)\n",
    "            train_graph.add_edge(a,b)\n",
    "        else:\n",
    "            p= nx.shortest_path_length(train_graph,source=a,target=b)\n",
    "        return p\n",
    "    except:\n",
    "        return -1"
   ]
  },
  {
   "cell_type": "code",
   "execution_count": 64,
   "metadata": {},
   "outputs": [],
   "source": [
    "#getting weakly connected edges from graph \n",
    "wcc = list(nx.weakly_connected_components(train_graph))\n",
    "\n",
    "def belongs_to_same_wcc(a,b):\n",
    "    index = []\n",
    "    # they must belongs are there is a path\n",
    "    if train_graph.has_edge(b,a):\n",
    "        return 1\n",
    "    \n",
    "    if train_graph.has_edge(a,b):\n",
    "        for i in wcc:\n",
    "            if a in i:\n",
    "                index = i\n",
    "                break\n",
    "        if b in index:\n",
    "            train_graph.remove_edge(a,b)\n",
    "            if compute_shortest_path_length(a,b) == -1:\n",
    "                train_graph.add_edge(a,b)\n",
    "                return 0\n",
    "            else:\n",
    "                train_graph.add_edge(a,b)\n",
    "                return 1\n",
    "        else:\n",
    "            return 0\n",
    "    else:\n",
    "        for i in wcc:\n",
    "            if a in i:\n",
    "                index = i\n",
    "                break\n",
    "        if(b in index):\n",
    "            return 1\n",
    "        else:\n",
    "            return 0"
   ]
  },
  {
   "cell_type": "code",
   "execution_count": 65,
   "metadata": {},
   "outputs": [],
   "source": [
    "# Adar Index\n",
    "def calc_adar_in(a,b):\n",
    "    sum = 0\n",
    "    try:\n",
    "        n=list(set(train_graph.successors(a)).intersection(set(train_graph.successors(b))))\n",
    "        if len(n)!=0:\n",
    "            for i in n:\n",
    "                sum=sum+(1/np.log10(len(list(train_graph.predecessors(i)))))\n",
    "            return sum\n",
    "        else:\n",
    "            return 0\n",
    "    except:\n",
    "        return 0"
   ]
  },
  {
   "cell_type": "code",
   "execution_count": 66,
   "metadata": {},
   "outputs": [],
   "source": [
    "# Test whether they are mutual followers\n",
    "def follows_back(a,b):\n",
    "    if train_graph.has_edge(b,a):\n",
    "        return 1\n",
    "    else:\n",
    "        return 0"
   ]
  },
  {
   "cell_type": "code",
   "execution_count": 67,
   "metadata": {},
   "outputs": [
    {
     "name": "stdout",
     "output_type": "stream",
     "text": [
      "min 0.0006402593899419023\n",
      "max 0.02463535779702343\n",
      "mean 0.0007533235298290654\n"
     ]
    }
   ],
   "source": [
    "#Katz centrality of a node is a measure of centrality in a network\n",
    "katz = nx.katz.katz_centrality(train_graph,alpha=0.005,beta=1)\n",
    "pickle.dump(katz, open('data/katz.p','wb'))\n",
    "mean_katz = float(sum(katz.values())) / len(katz)\n",
    "\n",
    "print('min',katz[min(katz, key=katz.get)])\n",
    "print('max',katz[max(katz, key=katz.get)])\n",
    "print('mean', mean_katz)"
   ]
  },
  {
   "cell_type": "code",
   "execution_count": 68,
   "metadata": {},
   "outputs": [
    {
     "name": "stdout",
     "output_type": "stream",
     "text": [
      "min 0.0\n",
      "max 0.2829364621057815\n",
      "mean 5.943335054919394e-07\n"
     ]
    }
   ],
   "source": [
    "#HITS\n",
    "hits = nx.hits(train_graph, max_iter=100, tol=1e-08, nstart=None, normalized=True)\n",
    "pickle.dump(hits, open('data/hits.p','wb'))\n",
    "mean_hits = float(sum(hits[0].values())) / len(hits[0])\n",
    "\n",
    "print('min',hits[0][min(hits[0], key=hits[0].get)])\n",
    "print('max',hits[0][max(hits[0], key=hits[0].get)])\n",
    "print('mean', mean_hits)"
   ]
  },
  {
   "cell_type": "code",
   "execution_count": 78,
   "metadata": {},
   "outputs": [],
   "source": [
    "# try to reduce the sample size, TODO, might fix this later\n",
    "desire_train = 100000\n",
    "desire_test = 50000\n",
    "d_train_pos = sorted(random.sample(range(len(X_train_pos)), int(desire_train/2)))\n",
    "d_test_pos = sorted(random.sample(range(len(X_test_pos)), int(desire_test/2)))\n",
    "d_train_neg = sorted(random.sample(range(len(X_train_neg)), int(desire_train/2)))\n",
    "d_test_neg = sorted(random.sample(range(len(X_test_neg)), int(desire_test/2)))"
   ]
  },
  {
   "cell_type": "code",
   "execution_count": 71,
   "metadata": {},
   "outputs": [],
   "source": [
    "def shrink_df(df, label, num_list):\n",
    "    if num_list == -1:\n",
    "        return df, label\n",
    "    desire_dict = {\"Source\":[], \"Sink\":[]}\n",
    "    lb = []\n",
    "    for i in num_list:\n",
    "        desire_dict['Source'].append(df.iloc[i]['Source'])\n",
    "        desire_dict['Sink'].append(df.iloc[i]['Sink'])\n",
    "        lb.append(label[i])\n",
    "    return pd.DataFrame(data=desire_dict), np.array(lb)"
   ]
  },
  {
   "cell_type": "code",
   "execution_count": 79,
   "metadata": {},
   "outputs": [],
   "source": [
    "X_desire_train_pos, y_desire_train_pos = shrink_df(X_train_pos, y_train_pos, d_train_pos)\n",
    "X_desire_train_neg, y_desire_train_neg = shrink_df(X_train_neg, y_train_neg, d_train_neg)"
   ]
  },
  {
   "cell_type": "code",
   "execution_count": 80,
   "metadata": {},
   "outputs": [],
   "source": [
    "X_desire_test_pos, y_desire_test_pos = shrink_df(X_test_pos, y_test_pos, d_test_pos)\n",
    "X_desire_test_neg, y_desire_test_neg = shrink_df(X_test_neg, y_test_neg, d_test_neg)"
   ]
  },
  {
   "cell_type": "code",
   "execution_count": 81,
   "metadata": {},
   "outputs": [],
   "source": [
    "X_desire_train = X_desire_train_pos.append(X_desire_train_neg, ignore_index=True)\n",
    "X_desire_test = X_desire_test_pos.append(X_desire_test_neg, ignore_index=True)\n",
    "\n",
    "y_desire_train = np.append(y_desire_train_pos, y_desire_train_neg)\n",
    "y_desire_test = np.append(y_desire_test_pos, y_desire_test_neg)"
   ]
  },
  {
   "cell_type": "code",
   "execution_count": 82,
   "metadata": {},
   "outputs": [
    {
     "name": "stdout",
     "output_type": "stream",
     "text": [
      "100000 100000 50000 50000\n"
     ]
    }
   ],
   "source": [
    "print(len(X_desire_train), len(y_desire_train), len(X_desire_test), len(y_desire_test))"
   ]
  },
  {
   "cell_type": "code",
   "execution_count": 83,
   "metadata": {},
   "outputs": [],
   "source": [
    "X_train_features = pd.DataFrame()\n",
    "X_test_features = pd.DataFrame()"
   ]
  },
  {
   "cell_type": "code",
   "execution_count": 84,
   "metadata": {
    "scrolled": true
   },
   "outputs": [],
   "source": [
    "#mapping jaccrd followers to train and test data\n",
    "X_train_features['jaccard_followers'] = X_desire_train.apply(lambda row:jaccard_followers(row['Source'], row['Sink']), axis=1)\n",
    "X_test_features['jaccard_followers'] = X_desire_test.apply(lambda row:jaccard_followers(row['Source'], row['Sink']),axis=1)\n",
    "\n",
    "#mapping jaccrd followees to train and test data\n",
    "X_train_features['jaccard_followees'] = X_desire_train.apply(lambda row:jaccard_followees(row['Source'], row['Sink']), axis=1)\n",
    "X_test_features['jaccard_followees'] = X_desire_test.apply(lambda row:jaccard_followees(row['Source'], row['Sink']), axis=1)\n",
    "\n",
    "#mapping jaccrd followers to train and test data\n",
    "X_train_features['cosine_followers'] = X_desire_train.apply(lambda row:cosine_followers(row['Source'], row['Sink']), axis=1)\n",
    "X_test_features['cosine_followers'] = X_desire_test.apply(lambda row:cosine_followers(row['Source'], row['Sink']), axis=1)\n",
    "\n",
    "#mapping jaccrd followees to train and test data\n",
    "X_train_features['cosine_followees'] = X_desire_train.apply(lambda row:cosine_followees(row['Source'], row['Sink']), axis=1)\n",
    "X_test_features['cosine_followees'] = X_desire_test.apply(lambda row:cosine_followees(row['Source'], row['Sink']), axis=1)"
   ]
  },
  {
   "cell_type": "code",
   "execution_count": 85,
   "metadata": {},
   "outputs": [],
   "source": [
    "def compute_features_stage1(df_final):\n",
    "    #calculating # of followers followees for source and destination\n",
    "    #calculating intersection of followers and followees for source and destination\n",
    "    num_followers_s=[]\n",
    "    num_followees_s=[]\n",
    "    num_followers_d=[]\n",
    "    num_followees_d=[]\n",
    "    inter_followers=[]\n",
    "    inter_followees=[]\n",
    "    \n",
    "    for i, row in df_final.iterrows():\n",
    "        try:\n",
    "            s1 = set(train_graph.predecessors(row['Source']))\n",
    "            s2 = set(train_graph.successors(row['Sink']))\n",
    "        except:\n",
    "            s1 = set()\n",
    "            s2 = set()\n",
    "        try:\n",
    "            d1 = set(train_graph.predecessors(row['Source']))\n",
    "            d2 = set(train_graph.successors(row['Sink']))\n",
    "        except:\n",
    "            d1 = set()\n",
    "            d2 = set()\n",
    "        num_followers_s.append(len(s1))\n",
    "        num_followees_s.append(len(s2))\n",
    "\n",
    "        num_followers_d.append(len(d1))\n",
    "        num_followees_d.append(len(d2))\n",
    "\n",
    "        inter_followers.append(len(s1.intersection(d1)))\n",
    "        inter_followees.append(len(s2.intersection(d2)))\n",
    "    \n",
    "    return num_followers_s, num_followers_d, num_followees_s, num_followees_d, inter_followers, inter_followees\n",
    "\n",
    "X_train_features['num_followers_s'], X_train_features['num_followers_d'], \\\n",
    "X_train_features['num_followees_s'], X_train_features['num_followees_d'], \\\n",
    "X_train_features['inter_followers'], X_train_features['inter_followees'] = compute_features_stage1(X_desire_train)\n",
    "\n",
    "X_test_features['num_followers_s'], X_test_features['num_followers_d'], \\\n",
    "X_test_features['num_followees_s'], X_test_features['num_followees_d'], \\\n",
    "X_test_features['inter_followers'], X_test_features['inter_followees'] = compute_features_stage1(X_desire_test)"
   ]
  },
  {
   "cell_type": "code",
   "execution_count": 86,
   "metadata": {},
   "outputs": [],
   "source": [
    "# mapping adar index\n",
    "X_train_features['adar_index'] = X_desire_train.apply(lambda row: calc_adar_in(row['Source'], row['Sink']), axis=1)\n",
    "X_test_features['adar_index'] = X_desire_test.apply(lambda row: calc_adar_in(row['Source'], row['Sink']), axis=1)\n",
    "\n",
    "# mapping followback\n",
    "X_train_features['follows_back'] = X_desire_train.apply(lambda row: follows_back(row['Source'], row['Sink']), axis=1)\n",
    "X_test_features['follows_back'] = X_desire_test.apply(lambda row: follows_back(row['Source'], row['Sink']), axis=1)\n",
    "\n",
    "# mapping wcc\n",
    "X_train_features['same_wcc'] = X_desire_train.apply(lambda row: belongs_to_same_wcc(row['Source'], row['Sink']), axis=1)\n",
    "X_test_features['same_wcc'] = X_desire_test.apply(lambda row: belongs_to_same_wcc(row['Source'], row['Sink']), axis=1)"
   ]
  },
  {
   "cell_type": "code",
   "execution_count": 87,
   "metadata": {},
   "outputs": [],
   "source": [
    "X_train_features['shortest_path'] = X_desire_train.apply(lambda row: compute_shortest_path_length(row['Source'], row['Sink']), axis=1)\n",
    "X_test_features['shortest_path'] = X_desire_test.apply(lambda row: compute_shortest_path_length(row['Source'], row['Sink']), axis=1)"
   ]
  },
  {
   "cell_type": "code",
   "execution_count": 88,
   "metadata": {},
   "outputs": [],
   "source": [
    "X_train_features['page_rank_s'] = X_desire_train['Source'].apply(lambda x:pr.get(x, mean_pr))\n",
    "X_train_features['page_rank_d'] = X_desire_train['Sink'].apply(lambda x:pr.get(x, mean_pr))\n",
    "X_test_features['page_rank_s'] = X_desire_test['Source'].apply(lambda x:pr.get(x, mean_pr))\n",
    "X_test_features['page_rank_d'] = X_desire_test['Sink'].apply(lambda x:pr.get(x, mean_pr))"
   ]
  },
  {
   "cell_type": "code",
   "execution_count": 89,
   "metadata": {},
   "outputs": [],
   "source": [
    "#Katz centrality score for source and destination in Train and test\n",
    "#if anything not there in train graph then adding mean katz score\n",
    "X_train_features['katz_s'] = X_desire_train['Source'].apply(lambda x: katz.get(x,mean_katz))\n",
    "X_train_features['katz_d'] = X_desire_train['Sink'].apply(lambda x: katz.get(x,mean_katz))\n",
    "X_test_features['katz_s'] = X_desire_test['Source'].apply(lambda x: katz.get(x,mean_katz))\n",
    "X_test_features['katz_d'] = X_desire_test['Sink'].apply(lambda x: katz.get(x,mean_katz))"
   ]
  },
  {
   "cell_type": "code",
   "execution_count": 90,
   "metadata": {},
   "outputs": [],
   "source": [
    "#Hits algorithm score for source and destination in Train and test\n",
    "#if anything not there in train graph then adding 0\n",
    "X_train_features['hubs_s'] = X_desire_train['Source'].apply(lambda x: hits[0].get(x,0))\n",
    "X_train_features['hubs_d'] = X_desire_train['Sink'].apply(lambda x: hits[0].get(x,0))\n",
    "X_test_features['hubs_s'] = X_desire_test['Source'].apply(lambda x: hits[0].get(x,0))\n",
    "X_test_features['hubs_d'] = X_desire_test['Sink'].apply(lambda x: hits[0].get(x,0))"
   ]
  },
  {
   "cell_type": "code",
   "execution_count": 91,
   "metadata": {},
   "outputs": [],
   "source": [
    "X_train_features['authorities_s'] = X_desire_train['Source'].apply(lambda x: hits[1].get(x,0))\n",
    "X_train_features['authorities_d'] = X_desire_train['Sink'].apply(lambda x: hits[1].get(x,0))\n",
    "X_test_features['authorities_s'] = X_desire_test['Source'].apply(lambda x: hits[1].get(x,0))\n",
    "X_test_features['authorities_d'] = X_desire_test['Sink'].apply(lambda x: hits[1].get(x,0))"
   ]
  },
  {
   "cell_type": "code",
   "execution_count": 92,
   "metadata": {},
   "outputs": [],
   "source": [
    "pickle.dump(X_train_features, open('data/X_train_features.p','wb'))\n",
    "pickle.dump(X_test_features, open('data/X_test_features.p','wb'))"
   ]
  },
  {
   "cell_type": "code",
   "execution_count": 142,
   "metadata": {},
   "outputs": [
    {
     "data": {
      "text/plain": [
       "(100000, 22)"
      ]
     },
     "execution_count": 142,
     "metadata": {},
     "output_type": "execute_result"
    }
   ],
   "source": [
    "X_train_features.shape"
   ]
  },
  {
   "cell_type": "code",
   "execution_count": 148,
   "metadata": {},
   "outputs": [
    {
     "data": {
      "text/plain": [
       "0    94118\n",
       "1     5882\n",
       "Name: same_wcc, dtype: int64"
      ]
     },
     "execution_count": 148,
     "metadata": {},
     "output_type": "execute_result"
    }
   ],
   "source": [
    "X_train_features['same_wcc'].value_counts()"
   ]
  },
  {
   "cell_type": "code",
   "execution_count": 149,
   "metadata": {},
   "outputs": [
    {
     "data": {
      "text/plain": [
       "(50000, 22)"
      ]
     },
     "execution_count": 149,
     "metadata": {},
     "output_type": "execute_result"
    }
   ],
   "source": [
    "X_test_features.shape"
   ]
  },
  {
   "cell_type": "code",
   "execution_count": 151,
   "metadata": {},
   "outputs": [
    {
     "data": {
      "text/plain": [
       "0.000000e+00    49919\n",
       "2.422529e-06        1\n",
       "2.334845e-06        1\n",
       "4.764807e-05        1\n",
       "4.982234e-07        1\n",
       "8.467370e-07        1\n",
       "6.040036e-07        1\n",
       "5.576386e-05        1\n",
       "6.785390e-06        1\n",
       "5.601396e-04        1\n",
       "8.312826e-05        1\n",
       "1.003509e-06        1\n",
       "2.377060e-06        1\n",
       "7.579423e-05        1\n",
       "5.798036e-06        1\n",
       "3.007495e-06        1\n",
       "2.043685e-06        1\n",
       "1.693044e-06        1\n",
       "1.239473e-06        1\n",
       "7.758887e-10        1\n",
       "1.309604e-07        1\n",
       "3.182577e-06        1\n",
       "2.247027e-05        1\n",
       "6.616841e-07        1\n",
       "2.727047e-03        1\n",
       "9.026525e-07        1\n",
       "1.186774e-05        1\n",
       "2.456950e-06        1\n",
       "5.926711e-05        1\n",
       "1.187776e-05        1\n",
       "                ...  \n",
       "2.000659e-05        1\n",
       "1.054438e-05        1\n",
       "1.086442e-08        1\n",
       "8.584135e-06        1\n",
       "7.211326e-07        1\n",
       "1.038042e-05        1\n",
       "2.058101e-05        1\n",
       "6.082836e-06        1\n",
       "4.592592e-06        1\n",
       "1.491220e-09        1\n",
       "4.629040e-06        1\n",
       "3.630090e-06        1\n",
       "5.049673e-06        1\n",
       "2.240376e-06        1\n",
       "2.082087e-05        1\n",
       "2.179013e-06        1\n",
       "5.028561e-06        1\n",
       "8.201077e-07        1\n",
       "1.704780e-06        1\n",
       "3.908789e-06        1\n",
       "4.441081e-05        1\n",
       "2.547657e-06        1\n",
       "1.143555e-06        1\n",
       "8.951145e-06        1\n",
       "1.072993e-07        1\n",
       "1.180195e-06        1\n",
       "2.339205e-07        1\n",
       "1.460219e-05        1\n",
       "1.163278e-06        1\n",
       "1.488597e-06        1\n",
       "Name: hubs_d, Length: 82, dtype: int64"
      ]
     },
     "execution_count": 151,
     "metadata": {},
     "output_type": "execute_result"
    }
   ],
   "source": [
    "X_test_features['hubs_d'].value_counts()"
   ]
  },
  {
   "cell_type": "code",
   "execution_count": 96,
   "metadata": {},
   "outputs": [
    {
     "data": {
      "text/plain": [
       "Index(['jaccard_followers', 'jaccard_followees', 'cosine_followers',\n",
       "       'cosine_followees', 'num_followers_s', 'num_followers_d',\n",
       "       'num_followees_s', 'num_followees_d', 'inter_followers',\n",
       "       'inter_followees', 'adar_index', 'follows_back', 'same_wcc',\n",
       "       'shortest_path', 'page_rank_s', 'page_rank_d', 'katz_s', 'katz_d',\n",
       "       'hubs_s', 'hubs_d', 'authorities_s', 'authorities_d'],\n",
       "      dtype='object')"
      ]
     },
     "execution_count": 96,
     "metadata": {},
     "output_type": "execute_result"
    }
   ],
   "source": [
    "X_train_features.columns"
   ]
  },
  {
   "cell_type": "markdown",
   "metadata": {},
   "source": [
    "# Build the model"
   ]
  },
  {
   "cell_type": "code",
   "execution_count": 100,
   "metadata": {},
   "outputs": [
    {
     "name": "stderr",
     "output_type": "stream",
     "text": [
      "/Users/xinyaoniu/anaconda3/lib/python3.7/site-packages/sklearn/linear_model/logistic.py:432: FutureWarning: Default solver will be changed to 'lbfgs' in 0.22. Specify a solver to silence this warning.\n",
      "  FutureWarning)\n"
     ]
    },
    {
     "data": {
      "text/plain": [
       "LogisticRegression(C=1.0, class_weight=None, dual=False, fit_intercept=True,\n",
       "                   intercept_scaling=1, l1_ratio=None, max_iter=100,\n",
       "                   multi_class='warn', n_jobs=None, penalty='l2',\n",
       "                   random_state=90051, solver='warn', tol=0.0001, verbose=0,\n",
       "                   warm_start=False)"
      ]
     },
     "execution_count": 100,
     "metadata": {},
     "output_type": "execute_result"
    }
   ],
   "source": [
    "from sklearn.linear_model import LogisticRegression\n",
    "lr_clf = LogisticRegression(random_state=90051)\n",
    "lr_clf.fit(X_train_features, y_desire_train)"
   ]
  },
  {
   "cell_type": "code",
   "execution_count": 101,
   "metadata": {},
   "outputs": [
    {
     "data": {
      "text/plain": [
       "0.56114"
      ]
     },
     "execution_count": 101,
     "metadata": {},
     "output_type": "execute_result"
    }
   ],
   "source": [
    "lr_clf.score(X_test_features, y_desire_test)"
   ]
  },
  {
   "cell_type": "code",
   "execution_count": 152,
   "metadata": {},
   "outputs": [
    {
     "name": "stderr",
     "output_type": "stream",
     "text": [
      "/Users/xinyaoniu/anaconda3/lib/python3.7/site-packages/sklearn/ensemble/forest.py:245: FutureWarning: The default value of n_estimators will change from 10 in version 0.20 to 100 in 0.22.\n",
      "  \"10 in version 0.20 to 100 in 0.22.\", FutureWarning)\n"
     ]
    },
    {
     "data": {
      "text/plain": [
       "RandomForestClassifier(bootstrap=True, class_weight=None, criterion='gini',\n",
       "                       max_depth=3, max_features='auto', max_leaf_nodes=None,\n",
       "                       min_impurity_decrease=0.0, min_impurity_split=None,\n",
       "                       min_samples_leaf=1, min_samples_split=2,\n",
       "                       min_weight_fraction_leaf=0.0, n_estimators=10, n_jobs=-1,\n",
       "                       oob_score=False, random_state=90051, verbose=0,\n",
       "                       warm_start=False)"
      ]
     },
     "execution_count": 152,
     "metadata": {},
     "output_type": "execute_result"
    }
   ],
   "source": [
    "from sklearn.ensemble import RandomForestClassifier\n",
    "rf_clf = RandomForestClassifier(max_depth=3, random_state=90051, n_jobs=-1)\n",
    "rf_clf.fit(X_train_features, y_desire_train)"
   ]
  },
  {
   "cell_type": "code",
   "execution_count": 153,
   "metadata": {},
   "outputs": [
    {
     "data": {
      "text/plain": [
       "0.77282"
      ]
     },
     "execution_count": 153,
     "metadata": {},
     "output_type": "execute_result"
    }
   ],
   "source": [
    "rf_clf.score(X_test_features, y_desire_test)"
   ]
  },
  {
   "cell_type": "code",
   "execution_count": 154,
   "metadata": {},
   "outputs": [
    {
     "data": {
      "text/plain": [
       "array([[0.41354897, 0.58645103],\n",
       "       [0.41354897, 0.58645103],\n",
       "       [0.41354897, 0.58645103],\n",
       "       ...,\n",
       "       [1.        , 0.        ],\n",
       "       [0.7156832 , 0.2843168 ],\n",
       "       [0.65911074, 0.34088926]])"
      ]
     },
     "execution_count": 154,
     "metadata": {},
     "output_type": "execute_result"
    }
   ],
   "source": [
    "rf_clf.predict_proba(X_test_features)"
   ]
  },
  {
   "cell_type": "code",
   "execution_count": 155,
   "metadata": {},
   "outputs": [],
   "source": [
    "from sklearn.metrics import roc_auc_score\n",
    "def evaluate_roc_auc(clf, features, labels):\n",
    "    predicted = clf.predict_proba(features)\n",
    "\n",
    "    # check which class corresponds to positive links\n",
    "    positive_column = list(clf.classes_).index(1)\n",
    "    return roc_auc_score(labels, predicted[:, positive_column])"
   ]
  },
  {
   "cell_type": "code",
   "execution_count": 159,
   "metadata": {},
   "outputs": [
    {
     "data": {
      "text/plain": [
       "0.7848"
      ]
     },
     "execution_count": 159,
     "metadata": {},
     "output_type": "execute_result"
    }
   ],
   "source": [
    "evaluate_roc_auc(xgb_clf, X_test_features, y_desire_test)"
   ]
  },
  {
   "cell_type": "code",
   "execution_count": 157,
   "metadata": {},
   "outputs": [
    {
     "data": {
      "text/plain": [
       "XGBClassifier(base_score=0.5, booster='gbtree', colsample_bylevel=1,\n",
       "              colsample_bynode=1, colsample_bytree=1, gamma=0, gpu_id=-1,\n",
       "              importance_type='gain', interaction_constraints='',\n",
       "              learning_rate=0.05, max_delta_step=0, max_depth=4,\n",
       "              min_child_weight=1, missing=None, monotone_constraints='()',\n",
       "              n_estimators=500, n_jobs=5, nthread=5, num_parallel_tree=1,\n",
       "              objective='binary:logistic', random_state=0, reg_alpha=0,\n",
       "              reg_lambda=1.0, scale_pos_weight=1, seed=0, subsample=1,\n",
       "              tree_method='exact', validate_parameters=1, verbosity=None)"
      ]
     },
     "execution_count": 157,
     "metadata": {},
     "output_type": "execute_result"
    }
   ],
   "source": [
    "import xgboost as xgb\n",
    "\n",
    "from sklearn.model_selection import GridSearchCV\n",
    "#Building Model using best parameter\n",
    "tuned_params = {'max_depth': [1, 2, 3, 4, 5], 'learning_rate': [0.01, 0.05, 0.1], \n",
    "                'n_estimators': [100, 200, 300, 400, 500], \n",
    "                'reg_lambda': [0.001, 0.1, 1.0, 10.0, 100.0]}\n",
    "# clf = GridSearchCV(\n",
    "#     xgb.XGBClassifier(base_score=0.5, \n",
    "#                   booster='gbtree', \n",
    "#                   colsample_bylevel=1, \n",
    "#                   colsample_bytree=1, \n",
    "#                   gamma=0, \n",
    "#                   learning_rate=0.05, \n",
    "#                   max_delta_step=0,\n",
    "#                   max_depth=4, \n",
    "#                   min_child_weight=1, \n",
    "#                   missing=None, \n",
    "#                   n_estimators=500,\n",
    "#                   n_jobs=1, \n",
    "#                   nthread=None,\n",
    "#                   objective='binary:logistic', \n",
    "#                   random_state=0,\n",
    "#                   reg_alpha=0, \n",
    "#                   reg_lambda=1.0, \n",
    "#                   scale_pos_weight=1, \n",
    "#                   seed=None,\n",
    "#                   silent=False, \n",
    "#                   subsample=1), \n",
    "#     tuned_params, \n",
    "#     scoring = 'roc_auc', \n",
    "#     n_jobs=-1\n",
    "# )\n",
    "\n",
    "xgb_clf = xgb.XGBClassifier(base_score=0.5, \n",
    "                  booster='gbtree', \n",
    "                  colsample_bylevel=1, \n",
    "                  colsample_bytree=1, \n",
    "                  gamma=0, \n",
    "                  learning_rate=0.05, \n",
    "                  max_delta_step=0,\n",
    "                  max_depth=4, \n",
    "                  min_child_weight=1, \n",
    "                  missing=None, \n",
    "                  n_estimators=500,\n",
    "                  n_jobs=5, \n",
    "                  nthread=None,\n",
    "                  objective='binary:logistic', \n",
    "                  random_state=0,\n",
    "                  reg_alpha=0, \n",
    "                  reg_lambda=1.0, \n",
    "                  scale_pos_weight=1, \n",
    "                  seed=None,\n",
    "                  subsample=1)\n",
    "\n",
    "xgb_clf.fit(X_train_features, y_desire_train)"
   ]
  },
  {
   "cell_type": "code",
   "execution_count": 158,
   "metadata": {},
   "outputs": [
    {
     "data": {
      "text/plain": [
       "0.7848"
      ]
     },
     "execution_count": 158,
     "metadata": {},
     "output_type": "execute_result"
    }
   ],
   "source": [
    "xgb_clf.score(X_test_features, y_desire_test)"
   ]
  },
  {
   "cell_type": "code",
   "execution_count": 109,
   "metadata": {},
   "outputs": [],
   "source": [
    "from sklearn.ensemble import VotingClassifier\n",
    "voting = VotingClassifier(estimators=[('lr', lr_clf), ('xgb', clf), ('rf', rf_clf)], voting='soft')"
   ]
  },
  {
   "cell_type": "code",
   "execution_count": 110,
   "metadata": {},
   "outputs": [
    {
     "name": "stderr",
     "output_type": "stream",
     "text": [
      "/Users/xinyaoniu/anaconda3/lib/python3.7/site-packages/sklearn/linear_model/logistic.py:432: FutureWarning: Default solver will be changed to 'lbfgs' in 0.22. Specify a solver to silence this warning.\n",
      "  FutureWarning)\n"
     ]
    },
    {
     "data": {
      "text/plain": [
       "VotingClassifier(estimators=[('lr',\n",
       "                              LogisticRegression(C=1.0, class_weight=None,\n",
       "                                                 dual=False, fit_intercept=True,\n",
       "                                                 intercept_scaling=1,\n",
       "                                                 l1_ratio=None, max_iter=100,\n",
       "                                                 multi_class='warn',\n",
       "                                                 n_jobs=None, penalty='l2',\n",
       "                                                 random_state=90051,\n",
       "                                                 solver='warn', tol=0.0001,\n",
       "                                                 verbose=0, warm_start=False)),\n",
       "                             ('xgb',\n",
       "                              XGBClassifier(base_score=0.5, booster='gbtree',\n",
       "                                            colsample_bylevel=1,\n",
       "                                            colsa...\n",
       "                                                     class_weight=None,\n",
       "                                                     criterion='gini',\n",
       "                                                     max_depth=5,\n",
       "                                                     max_features='auto',\n",
       "                                                     max_leaf_nodes=None,\n",
       "                                                     min_impurity_decrease=0.0,\n",
       "                                                     min_impurity_split=None,\n",
       "                                                     min_samples_leaf=1,\n",
       "                                                     min_samples_split=2,\n",
       "                                                     min_weight_fraction_leaf=0.0,\n",
       "                                                     n_estimators=10, n_jobs=-1,\n",
       "                                                     oob_score=False,\n",
       "                                                     random_state=90051,\n",
       "                                                     verbose=0,\n",
       "                                                     warm_start=False))],\n",
       "                 flatten_transform=True, n_jobs=None, voting='soft',\n",
       "                 weights=None)"
      ]
     },
     "execution_count": 110,
     "metadata": {},
     "output_type": "execute_result"
    }
   ],
   "source": [
    "voting.fit(X_train_features, y_desire_train)"
   ]
  },
  {
   "cell_type": "code",
   "execution_count": 111,
   "metadata": {},
   "outputs": [
    {
     "data": {
      "text/plain": [
       "0.7848"
      ]
     },
     "execution_count": 111,
     "metadata": {},
     "output_type": "execute_result"
    }
   ],
   "source": [
    "voting.score(X_test_features, y_desire_test)"
   ]
  },
  {
   "cell_type": "markdown",
   "metadata": {},
   "source": [
    "# Genereate Submission"
   ]
  },
  {
   "cell_type": "code",
   "execution_count": 132,
   "metadata": {},
   "outputs": [
    {
     "data": {
      "text/html": [
       "<div>\n",
       "<style scoped>\n",
       "    .dataframe tbody tr th:only-of-type {\n",
       "        vertical-align: middle;\n",
       "    }\n",
       "\n",
       "    .dataframe tbody tr th {\n",
       "        vertical-align: top;\n",
       "    }\n",
       "\n",
       "    .dataframe thead th {\n",
       "        text-align: right;\n",
       "    }\n",
       "</style>\n",
       "<table border=\"1\" class=\"dataframe\">\n",
       "  <thead>\n",
       "    <tr style=\"text-align: right;\">\n",
       "      <th></th>\n",
       "      <th>Source</th>\n",
       "      <th>Sink</th>\n",
       "    </tr>\n",
       "  </thead>\n",
       "  <tbody>\n",
       "    <tr>\n",
       "      <th>0</th>\n",
       "      <td>3563811</td>\n",
       "      <td>3600160</td>\n",
       "    </tr>\n",
       "    <tr>\n",
       "      <th>1</th>\n",
       "      <td>2052043</td>\n",
       "      <td>1401960</td>\n",
       "    </tr>\n",
       "    <tr>\n",
       "      <th>2</th>\n",
       "      <td>4517994</td>\n",
       "      <td>1690636</td>\n",
       "    </tr>\n",
       "    <tr>\n",
       "      <th>3</th>\n",
       "      <td>1660006</td>\n",
       "      <td>4349447</td>\n",
       "    </tr>\n",
       "    <tr>\n",
       "      <th>4</th>\n",
       "      <td>581111</td>\n",
       "      <td>1882617</td>\n",
       "    </tr>\n",
       "  </tbody>\n",
       "</table>\n",
       "</div>"
      ],
      "text/plain": [
       "    Source     Sink\n",
       "0  3563811  3600160\n",
       "1  2052043  1401960\n",
       "2  4517994  1690636\n",
       "3  1660006  4349447\n",
       "4   581111  1882617"
      ]
     },
     "execution_count": 132,
     "metadata": {},
     "output_type": "execute_result"
    }
   ],
   "source": [
    "sub_data.head()"
   ]
  },
  {
   "cell_type": "code",
   "execution_count": 113,
   "metadata": {},
   "outputs": [],
   "source": [
    "X_sub = pd.DataFrame()"
   ]
  },
  {
   "cell_type": "code",
   "execution_count": 114,
   "metadata": {},
   "outputs": [],
   "source": [
    "#mapping jaccrd followers to train and test data\n",
    "X_sub['jaccard_followers'] = sub_data.apply(lambda row:jaccard_followers(row['Source'], row['Sink']), axis=1)\n",
    "\n",
    "#mapping jaccrd followees to train and test data\n",
    "X_sub['jaccard_followees'] = sub_data.apply(lambda row:jaccard_followees(row['Source'], row['Sink']), axis=1)\n",
    "\n",
    "#mapping jaccrd followers to train and test data\n",
    "X_sub['cosine_followers'] = sub_data.apply(lambda row:cosine_followers(row['Source'], row['Sink']), axis=1)\n",
    "\n",
    "#mapping jaccrd followees to train and test data\n",
    "X_sub['cosine_followees'] = sub_data.apply(lambda row:cosine_followees(row['Source'], row['Sink']), axis=1)"
   ]
  },
  {
   "cell_type": "code",
   "execution_count": 115,
   "metadata": {},
   "outputs": [],
   "source": [
    "X_sub['num_followers_s'], X_sub['num_followers_d'], \\\n",
    "X_sub['num_followees_s'], X_sub['num_followees_d'], \\\n",
    "X_sub['inter_followers'], X_sub['inter_followees'] = compute_features_stage1(sub_data)"
   ]
  },
  {
   "cell_type": "code",
   "execution_count": 116,
   "metadata": {},
   "outputs": [],
   "source": [
    "# mapping adar index\n",
    "X_sub['adar_index'] = sub_data.apply(lambda row: calc_adar_in(row['Source'], row['Sink']), axis=1)\n",
    "\n",
    "# mapping followback\n",
    "X_sub['follows_back'] = sub_data.apply(lambda row: follows_back(row['Source'], row['Sink']), axis=1)\n",
    "\n",
    "# mapping wcc\n",
    "X_sub['same_wcc'] = sub_data.apply(lambda row: belongs_to_same_wcc(row['Source'], row['Sink']), axis=1)"
   ]
  },
  {
   "cell_type": "code",
   "execution_count": 117,
   "metadata": {},
   "outputs": [],
   "source": [
    "X_sub['shortest_path'] = sub_data.apply(lambda row: compute_shortest_path_length(row['Source'], row['Sink']), axis=1)"
   ]
  },
  {
   "cell_type": "code",
   "execution_count": 118,
   "metadata": {},
   "outputs": [],
   "source": [
    "X_sub['page_rank_s'] = sub_data['Source'].apply(lambda x:pr.get(x, mean_pr))\n",
    "X_sub['page_rank_d'] = sub_data['Sink'].apply(lambda x:pr.get(x, mean_pr))"
   ]
  },
  {
   "cell_type": "code",
   "execution_count": 119,
   "metadata": {},
   "outputs": [],
   "source": [
    "X_sub['katz_s'] = sub_data['Source'].apply(lambda x: katz.get(x,mean_katz))\n",
    "X_sub['katz_d'] = sub_data['Sink'].apply(lambda x: katz.get(x,mean_katz))"
   ]
  },
  {
   "cell_type": "code",
   "execution_count": 120,
   "metadata": {},
   "outputs": [],
   "source": [
    "X_sub['hubs_s'] = sub_data['Source'].apply(lambda x: hits[0].get(x,0))\n",
    "X_sub['hubs_d'] = sub_data['Sink'].apply(lambda x: hits[0].get(x,0))"
   ]
  },
  {
   "cell_type": "code",
   "execution_count": 121,
   "metadata": {},
   "outputs": [],
   "source": [
    "X_sub['authorities_s'] = sub_data['Source'].apply(lambda x: hits[1].get(x,0))\n",
    "X_sub['authorities_d'] = sub_data['Sink'].apply(lambda x: hits[1].get(x,0))"
   ]
  },
  {
   "cell_type": "code",
   "execution_count": 138,
   "metadata": {},
   "outputs": [
    {
     "data": {
      "text/html": [
       "<div>\n",
       "<style scoped>\n",
       "    .dataframe tbody tr th:only-of-type {\n",
       "        vertical-align: middle;\n",
       "    }\n",
       "\n",
       "    .dataframe tbody tr th {\n",
       "        vertical-align: top;\n",
       "    }\n",
       "\n",
       "    .dataframe thead th {\n",
       "        text-align: right;\n",
       "    }\n",
       "</style>\n",
       "<table border=\"1\" class=\"dataframe\">\n",
       "  <thead>\n",
       "    <tr style=\"text-align: right;\">\n",
       "      <th></th>\n",
       "      <th>jaccard_followers</th>\n",
       "      <th>jaccard_followees</th>\n",
       "      <th>cosine_followers</th>\n",
       "      <th>cosine_followees</th>\n",
       "      <th>num_followers_s</th>\n",
       "      <th>num_followers_d</th>\n",
       "      <th>num_followees_s</th>\n",
       "      <th>num_followees_d</th>\n",
       "      <th>inter_followers</th>\n",
       "      <th>inter_followees</th>\n",
       "      <th>...</th>\n",
       "      <th>same_wcc</th>\n",
       "      <th>shortest_path</th>\n",
       "      <th>page_rank_s</th>\n",
       "      <th>page_rank_d</th>\n",
       "      <th>katz_s</th>\n",
       "      <th>katz_d</th>\n",
       "      <th>hubs_s</th>\n",
       "      <th>hubs_d</th>\n",
       "      <th>authorities_s</th>\n",
       "      <th>authorities_d</th>\n",
       "    </tr>\n",
       "  </thead>\n",
       "  <tbody>\n",
       "    <tr>\n",
       "      <th>count</th>\n",
       "      <td>2000.0</td>\n",
       "      <td>2000.0</td>\n",
       "      <td>2000.0</td>\n",
       "      <td>2000.0</td>\n",
       "      <td>2000.0</td>\n",
       "      <td>2000.0</td>\n",
       "      <td>2000.0</td>\n",
       "      <td>2000.0</td>\n",
       "      <td>2000.0</td>\n",
       "      <td>2000.0</td>\n",
       "      <td>...</td>\n",
       "      <td>2000.0</td>\n",
       "      <td>2000.0</td>\n",
       "      <td>2.000000e+03</td>\n",
       "      <td>2.000000e+03</td>\n",
       "      <td>2.000000e+03</td>\n",
       "      <td>2.000000e+03</td>\n",
       "      <td>2000.0</td>\n",
       "      <td>2000.0</td>\n",
       "      <td>2000.0</td>\n",
       "      <td>2000.0</td>\n",
       "    </tr>\n",
       "    <tr>\n",
       "      <th>mean</th>\n",
       "      <td>0.0</td>\n",
       "      <td>0.0</td>\n",
       "      <td>0.0</td>\n",
       "      <td>0.0</td>\n",
       "      <td>0.0</td>\n",
       "      <td>0.0</td>\n",
       "      <td>0.0</td>\n",
       "      <td>0.0</td>\n",
       "      <td>0.0</td>\n",
       "      <td>0.0</td>\n",
       "      <td>...</td>\n",
       "      <td>0.0</td>\n",
       "      <td>-1.0</td>\n",
       "      <td>5.943335e-07</td>\n",
       "      <td>5.943335e-07</td>\n",
       "      <td>7.533235e-04</td>\n",
       "      <td>7.533235e-04</td>\n",
       "      <td>0.0</td>\n",
       "      <td>0.0</td>\n",
       "      <td>0.0</td>\n",
       "      <td>0.0</td>\n",
       "    </tr>\n",
       "    <tr>\n",
       "      <th>std</th>\n",
       "      <td>0.0</td>\n",
       "      <td>0.0</td>\n",
       "      <td>0.0</td>\n",
       "      <td>0.0</td>\n",
       "      <td>0.0</td>\n",
       "      <td>0.0</td>\n",
       "      <td>0.0</td>\n",
       "      <td>0.0</td>\n",
       "      <td>0.0</td>\n",
       "      <td>0.0</td>\n",
       "      <td>...</td>\n",
       "      <td>0.0</td>\n",
       "      <td>0.0</td>\n",
       "      <td>1.006103e-20</td>\n",
       "      <td>1.006103e-20</td>\n",
       "      <td>1.832760e-17</td>\n",
       "      <td>1.832760e-17</td>\n",
       "      <td>0.0</td>\n",
       "      <td>0.0</td>\n",
       "      <td>0.0</td>\n",
       "      <td>0.0</td>\n",
       "    </tr>\n",
       "    <tr>\n",
       "      <th>min</th>\n",
       "      <td>0.0</td>\n",
       "      <td>0.0</td>\n",
       "      <td>0.0</td>\n",
       "      <td>0.0</td>\n",
       "      <td>0.0</td>\n",
       "      <td>0.0</td>\n",
       "      <td>0.0</td>\n",
       "      <td>0.0</td>\n",
       "      <td>0.0</td>\n",
       "      <td>0.0</td>\n",
       "      <td>...</td>\n",
       "      <td>0.0</td>\n",
       "      <td>-1.0</td>\n",
       "      <td>5.943335e-07</td>\n",
       "      <td>5.943335e-07</td>\n",
       "      <td>7.533235e-04</td>\n",
       "      <td>7.533235e-04</td>\n",
       "      <td>0.0</td>\n",
       "      <td>0.0</td>\n",
       "      <td>0.0</td>\n",
       "      <td>0.0</td>\n",
       "    </tr>\n",
       "    <tr>\n",
       "      <th>25%</th>\n",
       "      <td>0.0</td>\n",
       "      <td>0.0</td>\n",
       "      <td>0.0</td>\n",
       "      <td>0.0</td>\n",
       "      <td>0.0</td>\n",
       "      <td>0.0</td>\n",
       "      <td>0.0</td>\n",
       "      <td>0.0</td>\n",
       "      <td>0.0</td>\n",
       "      <td>0.0</td>\n",
       "      <td>...</td>\n",
       "      <td>0.0</td>\n",
       "      <td>-1.0</td>\n",
       "      <td>5.943335e-07</td>\n",
       "      <td>5.943335e-07</td>\n",
       "      <td>7.533235e-04</td>\n",
       "      <td>7.533235e-04</td>\n",
       "      <td>0.0</td>\n",
       "      <td>0.0</td>\n",
       "      <td>0.0</td>\n",
       "      <td>0.0</td>\n",
       "    </tr>\n",
       "    <tr>\n",
       "      <th>50%</th>\n",
       "      <td>0.0</td>\n",
       "      <td>0.0</td>\n",
       "      <td>0.0</td>\n",
       "      <td>0.0</td>\n",
       "      <td>0.0</td>\n",
       "      <td>0.0</td>\n",
       "      <td>0.0</td>\n",
       "      <td>0.0</td>\n",
       "      <td>0.0</td>\n",
       "      <td>0.0</td>\n",
       "      <td>...</td>\n",
       "      <td>0.0</td>\n",
       "      <td>-1.0</td>\n",
       "      <td>5.943335e-07</td>\n",
       "      <td>5.943335e-07</td>\n",
       "      <td>7.533235e-04</td>\n",
       "      <td>7.533235e-04</td>\n",
       "      <td>0.0</td>\n",
       "      <td>0.0</td>\n",
       "      <td>0.0</td>\n",
       "      <td>0.0</td>\n",
       "    </tr>\n",
       "    <tr>\n",
       "      <th>75%</th>\n",
       "      <td>0.0</td>\n",
       "      <td>0.0</td>\n",
       "      <td>0.0</td>\n",
       "      <td>0.0</td>\n",
       "      <td>0.0</td>\n",
       "      <td>0.0</td>\n",
       "      <td>0.0</td>\n",
       "      <td>0.0</td>\n",
       "      <td>0.0</td>\n",
       "      <td>0.0</td>\n",
       "      <td>...</td>\n",
       "      <td>0.0</td>\n",
       "      <td>-1.0</td>\n",
       "      <td>5.943335e-07</td>\n",
       "      <td>5.943335e-07</td>\n",
       "      <td>7.533235e-04</td>\n",
       "      <td>7.533235e-04</td>\n",
       "      <td>0.0</td>\n",
       "      <td>0.0</td>\n",
       "      <td>0.0</td>\n",
       "      <td>0.0</td>\n",
       "    </tr>\n",
       "    <tr>\n",
       "      <th>max</th>\n",
       "      <td>0.0</td>\n",
       "      <td>0.0</td>\n",
       "      <td>0.0</td>\n",
       "      <td>0.0</td>\n",
       "      <td>0.0</td>\n",
       "      <td>0.0</td>\n",
       "      <td>0.0</td>\n",
       "      <td>0.0</td>\n",
       "      <td>0.0</td>\n",
       "      <td>0.0</td>\n",
       "      <td>...</td>\n",
       "      <td>0.0</td>\n",
       "      <td>-1.0</td>\n",
       "      <td>5.943335e-07</td>\n",
       "      <td>5.943335e-07</td>\n",
       "      <td>7.533235e-04</td>\n",
       "      <td>7.533235e-04</td>\n",
       "      <td>0.0</td>\n",
       "      <td>0.0</td>\n",
       "      <td>0.0</td>\n",
       "      <td>0.0</td>\n",
       "    </tr>\n",
       "  </tbody>\n",
       "</table>\n",
       "<p>8 rows × 22 columns</p>\n",
       "</div>"
      ],
      "text/plain": [
       "       jaccard_followers  jaccard_followees  cosine_followers  \\\n",
       "count             2000.0             2000.0            2000.0   \n",
       "mean                 0.0                0.0               0.0   \n",
       "std                  0.0                0.0               0.0   \n",
       "min                  0.0                0.0               0.0   \n",
       "25%                  0.0                0.0               0.0   \n",
       "50%                  0.0                0.0               0.0   \n",
       "75%                  0.0                0.0               0.0   \n",
       "max                  0.0                0.0               0.0   \n",
       "\n",
       "       cosine_followees  num_followers_s  num_followers_d  num_followees_s  \\\n",
       "count            2000.0           2000.0           2000.0           2000.0   \n",
       "mean                0.0              0.0              0.0              0.0   \n",
       "std                 0.0              0.0              0.0              0.0   \n",
       "min                 0.0              0.0              0.0              0.0   \n",
       "25%                 0.0              0.0              0.0              0.0   \n",
       "50%                 0.0              0.0              0.0              0.0   \n",
       "75%                 0.0              0.0              0.0              0.0   \n",
       "max                 0.0              0.0              0.0              0.0   \n",
       "\n",
       "       num_followees_d  inter_followers  inter_followees  ...  same_wcc  \\\n",
       "count           2000.0           2000.0           2000.0  ...    2000.0   \n",
       "mean               0.0              0.0              0.0  ...       0.0   \n",
       "std                0.0              0.0              0.0  ...       0.0   \n",
       "min                0.0              0.0              0.0  ...       0.0   \n",
       "25%                0.0              0.0              0.0  ...       0.0   \n",
       "50%                0.0              0.0              0.0  ...       0.0   \n",
       "75%                0.0              0.0              0.0  ...       0.0   \n",
       "max                0.0              0.0              0.0  ...       0.0   \n",
       "\n",
       "       shortest_path   page_rank_s   page_rank_d        katz_s        katz_d  \\\n",
       "count         2000.0  2.000000e+03  2.000000e+03  2.000000e+03  2.000000e+03   \n",
       "mean            -1.0  5.943335e-07  5.943335e-07  7.533235e-04  7.533235e-04   \n",
       "std              0.0  1.006103e-20  1.006103e-20  1.832760e-17  1.832760e-17   \n",
       "min             -1.0  5.943335e-07  5.943335e-07  7.533235e-04  7.533235e-04   \n",
       "25%             -1.0  5.943335e-07  5.943335e-07  7.533235e-04  7.533235e-04   \n",
       "50%             -1.0  5.943335e-07  5.943335e-07  7.533235e-04  7.533235e-04   \n",
       "75%             -1.0  5.943335e-07  5.943335e-07  7.533235e-04  7.533235e-04   \n",
       "max             -1.0  5.943335e-07  5.943335e-07  7.533235e-04  7.533235e-04   \n",
       "\n",
       "       hubs_s  hubs_d  authorities_s  authorities_d  \n",
       "count  2000.0  2000.0         2000.0         2000.0  \n",
       "mean      0.0     0.0            0.0            0.0  \n",
       "std       0.0     0.0            0.0            0.0  \n",
       "min       0.0     0.0            0.0            0.0  \n",
       "25%       0.0     0.0            0.0            0.0  \n",
       "50%       0.0     0.0            0.0            0.0  \n",
       "75%       0.0     0.0            0.0            0.0  \n",
       "max       0.0     0.0            0.0            0.0  \n",
       "\n",
       "[8 rows x 22 columns]"
      ]
     },
     "execution_count": 138,
     "metadata": {},
     "output_type": "execute_result"
    }
   ],
   "source": [
    "X_sub.describe()"
   ]
  },
  {
   "cell_type": "code",
   "execution_count": 122,
   "metadata": {},
   "outputs": [],
   "source": [
    "y_sub = voting.predict_proba(X_sub)"
   ]
  },
  {
   "cell_type": "code",
   "execution_count": 123,
   "metadata": {},
   "outputs": [
    {
     "data": {
      "text/plain": [
       "array([[0.38281961, 0.61718039],\n",
       "       [0.38281961, 0.61718039],\n",
       "       [0.38281961, 0.61718039],\n",
       "       ...,\n",
       "       [0.38281961, 0.61718039],\n",
       "       [0.38281961, 0.61718039],\n",
       "       [0.38281961, 0.61718039]])"
      ]
     },
     "execution_count": 123,
     "metadata": {},
     "output_type": "execute_result"
    }
   ],
   "source": [
    "y_sub"
   ]
  },
  {
   "cell_type": "code",
   "execution_count": 130,
   "metadata": {},
   "outputs": [
    {
     "data": {
      "text/plain": [
       "2000.0"
      ]
     },
     "execution_count": 130,
     "metadata": {},
     "output_type": "execute_result"
    }
   ],
   "source": [
    "sum(voting.predict(X_sub))"
   ]
  },
  {
   "cell_type": "code",
   "execution_count": 125,
   "metadata": {},
   "outputs": [
    {
     "data": {
      "text/plain": [
       "array([1., 1., 1., ..., 1., 1., 1.])"
      ]
     },
     "execution_count": 125,
     "metadata": {},
     "output_type": "execute_result"
    }
   ],
   "source": [
    "voting.predict(X_sub)"
   ]
  },
  {
   "cell_type": "code",
   "execution_count": 571,
   "metadata": {},
   "outputs": [],
   "source": [
    "result = pd.DataFrame(data={\"Id\":range(1,len(y_sub)+1), \"Predicted\":[x[1] for x in y_sub]})"
   ]
  },
  {
   "cell_type": "code",
   "execution_count": 572,
   "metadata": {},
   "outputs": [],
   "source": [
    "result.to_csv('submissioin_all_features.csv', index=False)"
   ]
  },
  {
   "cell_type": "code",
   "execution_count": null,
   "metadata": {},
   "outputs": [],
   "source": []
  }
 ],
 "metadata": {
  "kernelspec": {
   "display_name": "Python 3",
   "language": "python",
   "name": "python3"
  },
  "language_info": {
   "codemirror_mode": {
    "name": "ipython",
    "version": 3
   },
   "file_extension": ".py",
   "mimetype": "text/x-python",
   "name": "python",
   "nbconvert_exporter": "python",
   "pygments_lexer": "ipython3",
   "version": "3.7.3"
  }
 },
 "nbformat": 4,
 "nbformat_minor": 4
}
