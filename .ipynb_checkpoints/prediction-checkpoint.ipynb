{
 "cells": [
  {
   "cell_type": "code",
   "execution_count": 1,
   "metadata": {},
   "outputs": [],
   "source": [
    "import numpy as np\n",
    "import pandas as pd\n",
    "import networkx as nx\n",
    "import matplotlib.pyplot as plt\n",
    "import plotly.express as px"
   ]
  },
  {
   "cell_type": "markdown",
   "metadata": {},
   "source": [
    "# Reading Data"
   ]
  },
  {
   "cell_type": "code",
   "execution_count": 160,
   "metadata": {},
   "outputs": [],
   "source": [
    "def create_df():\n",
    "    data = {'Source':[], 'Sink':[]}\n",
    "    with open(\"train.txt\", \"r\") as f:\n",
    "        for line in f:\n",
    "            line = f.readline().split(\"\\t\")\n",
    "            data['Source'] += [line[0]]*(len(line)-1)\n",
    "            data['Sink'] += line[1:]\n",
    "    pd_data = pd.DataFrame(data=data)\n",
    "    pd_data[['Source', 'Sink']] = pd_data[['Source', 'Sink']].apply(pd.to_numeric)\n",
    "    pd_data = pd_data.drop_duplicates(keep=False)\n",
    "    return pd_data"
   ]
  },
  {
   "cell_type": "code",
   "execution_count": 3,
   "metadata": {},
   "outputs": [],
   "source": [
    "def read_test():\n",
    "    return pd.read_csv(\"test-public.txt\", delimiter=\"\\t\", index_col=0)"
   ]
  },
  {
   "cell_type": "code",
   "execution_count": 4,
   "metadata": {
    "scrolled": true
   },
   "outputs": [],
   "source": [
    "data = create_df()"
   ]
  },
  {
   "cell_type": "code",
   "execution_count": 5,
   "metadata": {},
   "outputs": [],
   "source": [
    "data.to_csv(\"processed_train.csv\", header=False, index=False)"
   ]
  },
  {
   "cell_type": "code",
   "execution_count": 5,
   "metadata": {},
   "outputs": [
    {
     "data": {
      "text/plain": [
       "9792"
      ]
     },
     "execution_count": 5,
     "metadata": {},
     "output_type": "execute_result"
    }
   ],
   "source": [
    "len(set(data[\"Source\"]))"
   ]
  },
  {
   "cell_type": "code",
   "execution_count": 6,
   "metadata": {},
   "outputs": [],
   "source": [
    "test = read_test()"
   ]
  },
  {
   "cell_type": "code",
   "execution_count": 7,
   "metadata": {},
   "outputs": [
    {
     "data": {
      "text/html": [
       "<div>\n",
       "<style scoped>\n",
       "    .dataframe tbody tr th:only-of-type {\n",
       "        vertical-align: middle;\n",
       "    }\n",
       "\n",
       "    .dataframe tbody tr th {\n",
       "        vertical-align: top;\n",
       "    }\n",
       "\n",
       "    .dataframe thead th {\n",
       "        text-align: right;\n",
       "    }\n",
       "</style>\n",
       "<table border=\"1\" class=\"dataframe\">\n",
       "  <thead>\n",
       "    <tr style=\"text-align: right;\">\n",
       "      <th></th>\n",
       "      <th>Source</th>\n",
       "      <th>Sink</th>\n",
       "    </tr>\n",
       "    <tr>\n",
       "      <th>Id</th>\n",
       "      <th></th>\n",
       "      <th></th>\n",
       "    </tr>\n",
       "  </thead>\n",
       "  <tbody>\n",
       "    <tr>\n",
       "      <th>1</th>\n",
       "      <td>3563811</td>\n",
       "      <td>3600160</td>\n",
       "    </tr>\n",
       "    <tr>\n",
       "      <th>2</th>\n",
       "      <td>2052043</td>\n",
       "      <td>1401960</td>\n",
       "    </tr>\n",
       "    <tr>\n",
       "      <th>3</th>\n",
       "      <td>4517994</td>\n",
       "      <td>1690636</td>\n",
       "    </tr>\n",
       "    <tr>\n",
       "      <th>4</th>\n",
       "      <td>1660006</td>\n",
       "      <td>4349447</td>\n",
       "    </tr>\n",
       "    <tr>\n",
       "      <th>5</th>\n",
       "      <td>581111</td>\n",
       "      <td>1882617</td>\n",
       "    </tr>\n",
       "  </tbody>\n",
       "</table>\n",
       "</div>"
      ],
      "text/plain": [
       "     Source     Sink\n",
       "Id                  \n",
       "1   3563811  3600160\n",
       "2   2052043  1401960\n",
       "3   4517994  1690636\n",
       "4   1660006  4349447\n",
       "5    581111  1882617"
      ]
     },
     "execution_count": 7,
     "metadata": {},
     "output_type": "execute_result"
    }
   ],
   "source": [
    "test.head()"
   ]
  },
  {
   "cell_type": "code",
   "execution_count": 8,
   "metadata": {},
   "outputs": [
    {
     "data": {
      "text/plain": [
       "(2000, 2)"
      ]
     },
     "execution_count": 8,
     "metadata": {},
     "output_type": "execute_result"
    }
   ],
   "source": [
    "test.shape"
   ]
  },
  {
   "cell_type": "markdown",
   "metadata": {},
   "source": [
    "# Data Analysis"
   ]
  },
  {
   "cell_type": "code",
   "execution_count": 10,
   "metadata": {},
   "outputs": [
    {
     "name": "stdout",
     "output_type": "stream",
     "text": [
      "23\n"
     ]
    }
   ],
   "source": [
    "# missing data in train comparing with test\n",
    "non_exist = 0\n",
    "test_people = set(test['Source'])\n",
    "train_people = set(data['Source'])\n",
    "train_people.update(set(data['Sink']))\n",
    "for i in test_people:\n",
    "    if i not in train_people:\n",
    "        non_exist += 1\n",
    "print(non_exist)"
   ]
  },
  {
   "cell_type": "markdown",
   "metadata": {},
   "source": [
    "### Visualising using networkx"
   ]
  },
  {
   "cell_type": "code",
   "execution_count": 68,
   "metadata": {},
   "outputs": [],
   "source": [
    "g=nx.read_edgelist('processed_train.csv',delimiter=',',create_using=nx.DiGraph(),nodetype=int)"
   ]
  },
  {
   "cell_type": "code",
   "execution_count": 92,
   "metadata": {},
   "outputs": [
    {
     "name": "stdout",
     "output_type": "stream",
     "text": [
      "Name: \n",
      "Type: DiGraph\n",
      "Number of nodes: 2858508\n",
      "Number of edges: 11690629\n",
      "Average in degree:   4.0898\n",
      "Average out degree:   4.0898\n"
     ]
    }
   ],
   "source": [
    "print(nx.info(g))"
   ]
  },
  {
   "cell_type": "code",
   "execution_count": 127,
   "metadata": {},
   "outputs": [
    {
     "data": {
      "image/png": "[encoded data removed]",
      "text/plain": [
       "<Figure size 720x432 with 1 Axes>"
      ]
     },
     "metadata": {
      "needs_background": "light"
     },
     "output_type": "display_data"
    }
   ],
   "source": [
    "indegree_dist = list(dict(g.in_degree()).values())\n",
    "indegree_dist.sort()\n",
    "plt.figure(figsize=(10,6))\n",
    "plt.plot(indegree_dist)\n",
    "plt.xlabel('Index')\n",
    "plt.ylabel('# Of Followers')\n",
    "plt.show()"
   ]
  },
  {
   "cell_type": "code",
   "execution_count": 70,
   "metadata": {},
   "outputs": [
    {
     "name": "stdout",
     "output_type": "stream",
     "text": [
      "90 percentile value is 7.0\n",
      "91 percentile value is 8.0\n",
      "92 percentile value is 10.0\n",
      "93 percentile value is 11.0\n",
      "94 percentile value is 13.0\n",
      "95 percentile value is 16.0\n",
      "96 percentile value is 20.0\n",
      "97 percentile value is 25.0\n",
      "98 percentile value is 34.0\n",
      "99 percentile value is 51.0\n",
      "100 percentile value is 2393.0\n"
     ]
    }
   ],
   "source": [
    "for i in range(0,11):\n",
    "    print(90+i,'percentile value is',np.percentile(indegree_dist, 90+i))"
   ]
  },
  {
   "cell_type": "code",
   "execution_count": 71,
   "metadata": {},
   "outputs": [
    {
     "name": "stdout",
     "output_type": "stream",
     "text": [
      "99.1 percentile value is 54.0\n",
      "99.2 percentile value is 58.0\n",
      "99.3 percentile value is 62.0\n",
      "99.4 percentile value is 68.0\n",
      "99.5 percentile value is 75.0\n",
      "99.6 percentile value is 84.0\n",
      "99.7 percentile value is 97.0\n",
      "99.8 percentile value is 119.0\n",
      "99.9 percentile value is 166.0\n",
      "100.0 percentile value is 2393.0\n"
     ]
    }
   ],
   "source": [
    "for i in range(10,110,10):\n",
    "    print(99+(i/100),'percentile value is',np.percentile(indegree_dist,99+(i/100)))"
   ]
  },
  {
   "cell_type": "code",
   "execution_count": 77,
   "metadata": {},
   "outputs": [
    {
     "name": "stdout",
     "output_type": "stream",
     "text": [
      "# of persons who have no followers 291 and % is 0.010180135931052143\n"
     ]
    }
   ],
   "source": [
    "print('# of persons who have no followers' ,sum(np.array(indegree_dist)==0),'and % is',\n",
    "        sum(np.array(indegree_dist)==0)*100/len(indegree_dist))"
   ]
  },
  {
   "cell_type": "code",
   "execution_count": 126,
   "metadata": {},
   "outputs": [
    {
     "data": {
      "image/png": "[encoded data removed]",
      "text/plain": [
       "<Figure size 720x432 with 1 Axes>"
      ]
     },
     "metadata": {
      "needs_background": "light"
     },
     "output_type": "display_data"
    }
   ],
   "source": [
    "outdegree_dist = list(dict(g.out_degree()).values())\n",
    "outdegree_dist.sort()\n",
    "plt.figure(figsize=(10,6))\n",
    "plt.plot(outdegree_dist)\n",
    "plt.xlabel('Index')\n",
    "plt.ylabel('# Of Followee')\n",
    "plt.show()"
   ]
  },
  {
   "cell_type": "code",
   "execution_count": 73,
   "metadata": {},
   "outputs": [
    {
     "name": "stdout",
     "output_type": "stream",
     "text": [
      "99.1 percentile value is 0.0\n",
      "99.2 percentile value is 0.0\n",
      "99.3 percentile value is 0.0\n",
      "99.4 percentile value is 0.0\n",
      "99.5 percentile value is 0.0\n",
      "99.6 percentile value is 0.0\n",
      "99.7 percentile value is 26.0\n",
      "99.8 percentile value is 116.0\n",
      "99.9 percentile value is 381.0\n",
      "100.0 percentile value is 411419.0\n"
     ]
    }
   ],
   "source": [
    "for i in range(10,110,10):\n",
    "    print(99+(i/100),'percentile value is',np.percentile(outdegree_dist, 99+(i/100)))"
   ]
  },
  {
   "cell_type": "code",
   "execution_count": 74,
   "metadata": {},
   "outputs": [
    {
     "name": "stdout",
     "output_type": "stream",
     "text": [
      "99.9 percentile value is 381.0\n",
      "99.91 percentile value is 443.34370000008494\n",
      "99.92 percentile value is 523.0\n",
      "99.93 percentile value is 634.0451000002213\n",
      "99.94 percentile value is 792.0\n",
      "99.95 percentile value is 997.0\n",
      "99.96 percentile value is 1352.5971999997273\n",
      "99.97 percentile value is 1936.4479000000283\n",
      "99.98 percentile value is 2736.8817999982275\n",
      "99.99 percentile value is 6192.45099997893\n",
      "100.0 percentile value is 411419.0\n"
     ]
    }
   ],
   "source": [
    "for i in range(900,1010,10):\n",
    "    print(99+(i/1000),'percentile value is',np.percentile(outdegree_dist, 99+(i/1000)))"
   ]
  },
  {
   "cell_type": "code",
   "execution_count": 76,
   "metadata": {},
   "outputs": [
    {
     "name": "stdout",
     "output_type": "stream",
     "text": [
      "# of persons those are not following anyone are 2848716 and % is 99.65744367341284\n"
     ]
    }
   ],
   "source": [
    "print('# of persons those are not following anyone are', sum(np.array(outdegree_dist)==0),'and % is',\n",
    "        sum(np.array(outdegree_dist)==0)*100/len(outdegree_dist))"
   ]
  },
  {
   "cell_type": "markdown",
   "metadata": {},
   "source": [
    "# Negative Data preparing and Train-validation split"
   ]
  },
  {
   "cell_type": "code",
   "execution_count": 93,
   "metadata": {},
   "outputs": [
    {
     "name": "stdout",
     "output_type": "stream",
     "text": [
      "Name: \n",
      "Type: DiGraph\n",
      "Number of nodes: 2858508\n",
      "Number of edges: 11690629\n",
      "Average in degree:   4.0898\n",
      "Average out degree:   4.0898\n"
     ]
    }
   ],
   "source": [
    "print(nx.info(g))"
   ]
  },
  {
   "cell_type": "markdown",
   "metadata": {},
   "source": [
    "### generate random missing edge"
   ]
  },
  {
   "cell_type": "code",
   "execution_count": 97,
   "metadata": {},
   "outputs": [],
   "source": [
    "import random\n",
    "import csv\n",
    "# getting the processed connection\n",
    "raw_connection = csv.reader(open('processed_train.csv', 'r'))\n",
    "\n",
    "exist_edges = {}\n",
    "\n",
    "for edge in raw_connection:\n",
    "    exist_edges[(edge[0], edge[1])] = 1\n",
    "\n",
    "# in order to prevent overfitting, we generate the same number of negative edge\n",
    "missing_edges = set()\n",
    "while(len(missing_edges) < 11690629):\n",
    "    a = random.randint(1, 2858508)\n",
    "    b = random.randint(1, 2858508)\n",
    "    if a == b:\n",
    "        continue\n",
    "        \n",
    "    existance = exist_edges.get((a,b), -1)\n",
    "    if existance == -1:\n",
    "        try:\n",
    "            # if distance within 2, that means they share a common follower and very likely to be friends in real world or at least know each others\n",
    "            if nx.shortest_path_length(g, source=a, target=b) > 2:\n",
    "                missing_edges.add((a,b))\n",
    "            else:\n",
    "                continue\n",
    "        except:\n",
    "            missing_edges.add((a,b))"
   ]
  },
  {
   "cell_type": "code",
   "execution_count": 98,
   "metadata": {},
   "outputs": [
    {
     "data": {
      "text/plain": [
       "11690629"
      ]
     },
     "execution_count": 98,
     "metadata": {},
     "output_type": "execute_result"
    }
   ],
   "source": [
    "len(missing_edges)"
   ]
  },
  {
   "cell_type": "code",
   "execution_count": 99,
   "metadata": {},
   "outputs": [],
   "source": [
    "import pickle\n",
    "pickle.dump(missing_edges, open('data/missing_edges_final.p', 'wb'))"
   ]
  },
  {
   "cell_type": "markdown",
   "metadata": {},
   "source": [
    "### Train-Test Partition"
   ]
  },
  {
   "cell_type": "code",
   "execution_count": 105,
   "metadata": {},
   "outputs": [],
   "source": [
    "negative_data = pd.DataFrame(list(missing_edges), columns=['Source', 'Sink'])"
   ]
  },
  {
   "cell_type": "code",
   "execution_count": 110,
   "metadata": {},
   "outputs": [
    {
     "data": {
      "text/plain": [
       "11714162"
      ]
     },
     "execution_count": 110,
     "metadata": {},
     "output_type": "execute_result"
    }
   ],
   "source": [
    "len(data)"
   ]
  },
  {
   "cell_type": "code",
   "execution_count": 111,
   "metadata": {},
   "outputs": [
    {
     "data": {
      "text/plain": [
       "11690629"
      ]
     },
     "execution_count": 111,
     "metadata": {},
     "output_type": "execute_result"
    }
   ],
   "source": [
    "len(negative_data)"
   ]
  },
  {
   "cell_type": "code",
   "execution_count": 120,
   "metadata": {},
   "outputs": [],
   "source": [
    "from sklearn.model_selection import train_test_split\n",
    "#Trian test split \n",
    "#positive links and negative links seperatly because we need positive training data only for creating graph and for feature generation\n",
    "X_train_pos, X_test_pos, y_train_pos, y_test_pos  = train_test_split(data, np.ones(len(data)), test_size=0.2, random_state=90051)\n",
    "X_train_neg, X_test_neg, y_train_neg, y_test_neg  = train_test_split(negative_data, np.zeros(len(negative_data)), test_size=0.2, random_state=90051)"
   ]
  },
  {
   "cell_type": "code",
   "execution_count": 121,
   "metadata": {},
   "outputs": [
    {
     "name": "stdout",
     "output_type": "stream",
     "text": [
      "============================================================\n",
      "Number of nodes in the train data graph with edges 9371329\n",
      "Number of nodes in the train data graph without edges 9352503\n",
      "============================================================\n",
      "Number of nodes in the test data graph with edges 2342833\n",
      "Number of nodes in the test data graph without edges 2338126\n"
     ]
    }
   ],
   "source": [
    "# !TODO the data is not perfectly balanced, maybe fixed this later\n",
    "print('='*60)\n",
    "print(\"Number of nodes in the train data graph with edges\", y_train_pos.shape[0])\n",
    "print(\"Number of nodes in the train data graph without edges\", y_train_neg.shape[0])\n",
    "print('='*60)\n",
    "print(\"Number of nodes in the test data graph with edges\", y_test_pos.shape[0])\n",
    "print(\"Number of nodes in the test data graph without edges\", y_test_neg.shape[0])"
   ]
  },
  {
   "cell_type": "code",
   "execution_count": 122,
   "metadata": {},
   "outputs": [],
   "source": [
    "#removing header and saving\n",
    "X_train_pos.to_csv('data/train_pos.csv',header=False, index=False)\n",
    "X_test_pos.to_csv('data/test_pos.csv',header=False, index=False)\n",
    "X_train_neg.to_csv('data/train_neg.csv',header=False, index=False)\n",
    "X_test_neg.to_csv('data/test_neg.csv',header=False, index=False)"
   ]
  },
  {
   "cell_type": "code",
   "execution_count": 123,
   "metadata": {},
   "outputs": [],
   "source": [
    "X_train = X_train_pos.append(X_train_neg, ignore_index=True)\n",
    "y_train = np.concatenate((y_train_pos, y_train_neg))\n",
    "X_test = X_test_pos.append(X_test_neg, ignore_index=True)\n",
    "y_test = np.concatenate((y_test_pos, y_test_neg))"
   ]
  },
  {
   "cell_type": "code",
   "execution_count": 178,
   "metadata": {},
   "outputs": [],
   "source": [
    "#removing header and saving\n",
    "X_train.to_csv('data/X_train.csv',header=False, index=False)\n",
    "X_test.to_csv('data/X_test.csv',header=False, index=False)\n",
    "pickle.dump(y_train, open('data/y_train.p', 'wb'))\n",
    "pickle.dump(y_test, open('data/y_test.p', 'wb'))"
   ]
  },
  {
   "cell_type": "markdown",
   "metadata": {},
   "source": [
    "# Feature Engineering"
   ]
  },
  {
   "cell_type": "code",
   "execution_count": 129,
   "metadata": {},
   "outputs": [
    {
     "name": "stdout",
     "output_type": "stream",
     "text": [
      "Name: \n",
      "Type: DiGraph\n",
      "Number of nodes: 2476337\n",
      "Number of edges: 9356337\n",
      "Average in degree:   3.7783\n",
      "Average out degree:   3.7783\n",
      "Name: \n",
      "Type: DiGraph\n",
      "Number of nodes: 993944\n",
      "Number of edges: 2341878\n",
      "Average in degree:   2.3561\n",
      "Average out degree:   2.3561\n"
     ]
    }
   ],
   "source": [
    "#generate train and test graph\n",
    "train_graph = nx.read_edgelist('data/train_pos.csv',delimiter=',',create_using=nx.DiGraph(),nodetype=int)\n",
    "test_graph = nx.read_edgelist('data/test_pos.csv',delimiter=',',create_using=nx.DiGraph(),nodetype=int)\n",
    "\n",
    "print(nx.info(train_graph))\n",
    "print(nx.info(test_graph))\n",
    "\n",
    "# finding the unique nodes in the both train and test graphs\n",
    "train_nodes_pos = set(train_graph.nodes())\n",
    "test_nodes_pos = set(test_graph.nodes())\n",
    "\n",
    "trY_teY = len(train_nodes_pos.intersection(test_nodes_pos))\n",
    "trY_teN = len(train_nodes_pos - test_nodes_pos)\n",
    "teY_trN = len(test_nodes_pos - train_nodes_pos)\n",
    "\n",
    "print('no of people common in train and test -- ',trY_teY)\n",
    "print('no of people present in train but not present in test -- ',trY_teN)\n",
    "\n",
    "print('no of people present in test but not present in train -- ',teY_trN)\n",
    "print(' % of people not there in Train but exist in Test in total Test data are {} %'.format(teY_trN/len(test_nodes_pos)*100))"
   ]
  },
  {
   "cell_type": "code",
   "execution_count": 130,
   "metadata": {},
   "outputs": [],
   "source": [
    "def jaccard_followees(a, b):\n",
    "    try:\n",
    "        if len(set(train_graph.successors(a))) == 0 or len(set(train_graph.successors(b))) == 0:\n",
    "            return 0\n",
    "        else:\n",
    "            intersection = len(set(train_graph.successors(a)).intersection(set(train_graph.successors(b))))\n",
    "            union = len(set(train_graph.successors(a)).union(set(train_graph.successors(b))))\n",
    "            return intersection/union\n",
    "    except:\n",
    "        return 0\n",
    "    return sim\n",
    "\n",
    "def jaccard_followers(a,b):\n",
    "    try:\n",
    "        if set(train_graph.predecessors(a)) == 0 or len(set(g.predecessors(b))) == 0:\n",
    "            return 0\n",
    "        else:\n",
    "            intersection = len(set(train_graph.predecessors(a)).intersection(set(train_graph.predecessors(b))))\n",
    "            union = len(set(train_graph.predecessors(a)).union(set(train_graph.predecessors(b))))\n",
    "            return intersection/union\n",
    "    except:\n",
    "        return 0"
   ]
  },
  {
   "cell_type": "code",
   "execution_count": 133,
   "metadata": {},
   "outputs": [],
   "source": [
    "#for followees\n",
    "def cosine_followees(a,b):\n",
    "    try:\n",
    "        if len(set(train_graph.successors(a))) == 0 or len(set(train_graph.successors(b))) == 0:\n",
    "            return 0\n",
    "        else:\n",
    "            return (len(set(train_graph.successors(a)).intersection(set(train_graph.successors(b)))))/\\\n",
    "                                    (math.sqrt(len(set(train_graph.successors(a)))*len((set(train_graph.successors(b))))))\n",
    "    except:\n",
    "        return 0\n",
    "    \n",
    "def cosine_followers(a,b):\n",
    "    try:\n",
    "        \n",
    "        if len(set(train_graph.predecessors(a))) == 0 or len(set(train_graph.predecessors(b))) == 0:\n",
    "            return 0\n",
    "        else:\n",
    "            return (len(set(train_graph.predecessors(a)).intersection(set(train_graph.predecessors(b)))))/\\\n",
    "                                     (math.sqrt(len(set(train_graph.predecessors(a))))*(len(set(train_graph.predecessors(b)))))\n",
    "    except:\n",
    "        return 0"
   ]
  },
  {
   "cell_type": "code",
   "execution_count": 135,
   "metadata": {},
   "outputs": [
    {
     "name": "stdout",
     "output_type": "stream",
     "text": [
      "min 4.024692710545161e-07\n",
      "max 5.266545198732145e-06\n",
      "mean 4.0382225843064675e-07\n"
     ]
    }
   ],
   "source": [
    "# caclulating the page rank for each node pair\n",
    "pr = nx.pagerank(train_graph, alpha=0.85)\n",
    "pickle.dump(pr,open('data/page_rank.p','wb'))\n",
    "# use the mean for all the data points which are part of the test dataset but are not in the training dataset\n",
    "mean_pr = float(sum(pr.values())) / len(pr)\n",
    "\n",
    "print('min',pr[min(pr, key=pr.get)])\n",
    "print('max',pr[max(pr, key=pr.get)])\n",
    "print('mean', mean_pr)"
   ]
  },
  {
   "cell_type": "code",
   "execution_count": 136,
   "metadata": {},
   "outputs": [],
   "source": [
    "def compute_shortest_path_length(a,b):\n",
    "    p = -1\n",
    "    try:\n",
    "        # if the edge already exist, we first remove the edge which let our model better understand the graph\n",
    "        if train_graph.has_edge(a,b):\n",
    "            train_graph.remove_edge(a,b)\n",
    "            p= nx.shortest_path_length(train_graph,source=a,target=b)\n",
    "            train_graph.add_edge(a,b)\n",
    "        else:\n",
    "            p= nx.shortest_path_length(train_graph,source=a,target=b)\n",
    "        return p\n",
    "    except:\n",
    "        return -1"
   ]
  },
  {
   "cell_type": "code",
   "execution_count": 137,
   "metadata": {},
   "outputs": [],
   "source": [
    "#getting weakly connected edges from graph \n",
    "wcc = list(nx.weakly_connected_components(train_graph))\n",
    "\n",
    "def belongs_to_same_wcc(a,b):\n",
    "    index = []\n",
    "    # they must belongs are there is a path\n",
    "    if train_graph.has_edge(b,a):\n",
    "        return 1\n",
    "    \n",
    "    if train_graph.has_edge(a,b):\n",
    "        for i in wcc:\n",
    "            if a in i:\n",
    "                index = i\n",
    "                break\n",
    "        if b in index:\n",
    "            train_graph.remove_edge(a,b)\n",
    "            if compute_shortest_path_length(a,b) == -1:\n",
    "                train_graph.add_edge(a,b)\n",
    "                return 0\n",
    "            else:\n",
    "                train_graph.add_edge(a,b)\n",
    "                return 1\n",
    "        else:\n",
    "            return 0\n",
    "    else:\n",
    "        for i in wcc:\n",
    "            if a in i:\n",
    "                index = i\n",
    "                break\n",
    "        if(b in index):\n",
    "            return 1\n",
    "        else:\n",
    "            return 0"
   ]
  },
  {
   "cell_type": "code",
   "execution_count": 138,
   "metadata": {},
   "outputs": [],
   "source": [
    "# Adar Index\n",
    "def calc_adar_in(a,b):\n",
    "    sum = 0\n",
    "    try:\n",
    "        n=list(set(train_graph.successors(a)).intersection(set(train_graph.successors(b))))\n",
    "        if len(n)!=0:\n",
    "            for i in n:\n",
    "                sum=sum+(1/np.log10(len(list(train_graph.predecessors(i)))))\n",
    "            return sum\n",
    "        else:\n",
    "            return 0\n",
    "    except:\n",
    "        return 0"
   ]
  },
  {
   "cell_type": "code",
   "execution_count": 139,
   "metadata": {},
   "outputs": [],
   "source": [
    "# Test whether they are mutual followers\n",
    "def follows_back(a,b):\n",
    "    if train_graph.has_edge(b,a):\n",
    "        return 1\n",
    "    else:\n",
    "        return 0"
   ]
  },
  {
   "cell_type": "code",
   "execution_count": 144,
   "metadata": {},
   "outputs": [
    {
     "name": "stdout",
     "output_type": "stream",
     "text": [
      "min 0.0005446404721043856\n",
      "max 0.013375627968701433\n",
      "mean 0.0006085911056278674\n"
     ]
    }
   ],
   "source": [
    "#Katz centrality of a node is a measure of centrality in a network\n",
    "katz = nx.katz.katz_centrality(train_graph,alpha=0.005,beta=1)\n",
    "pickle.dump(katz, open('data/katz.p','wb'))\n",
    "mean_katz = float(sum(katz.values())) / len(katz)\n",
    "\n",
    "print('min',katz[min(katz, key=katz.get)])\n",
    "print('max',katz[max(katz, key=katz.get)])\n",
    "print('mean', mean_katz)"
   ]
  },
  {
   "cell_type": "code",
   "execution_count": 145,
   "metadata": {},
   "outputs": [
    {
     "name": "stdout",
     "output_type": "stream",
     "text": [
      "min 0.0\n",
      "max 0.013661454011445197\n",
      "mean 4.038222584405937e-07\n"
     ]
    }
   ],
   "source": [
    "#HITS\n",
    "hits = nx.hits(train_graph, max_iter=100, tol=1e-08, nstart=None, normalized=True)\n",
    "pickle.dump(hits, open('data/hits.p','wb'))\n",
    "mean_hits = float(sum(hits[0].values())) / len(hits[0])\n",
    "\n",
    "print('min',hits[0][min(hits[0], key=hits[0].get)])\n",
    "print('max',hits[0][max(hits[0], key=hits[0].get)])\n",
    "print('mean', mean_hits)"
   ]
  },
  {
   "cell_type": "code",
   "execution_count": null,
   "metadata": {},
   "outputs": [],
   "source": [
    "X_train_features = pd.DataFrame()\n",
    "X_test_features = pd.DataFrame()"
   ]
  },
  {
   "cell_type": "code",
   "execution_count": 174,
   "metadata": {
    "scrolled": true
   },
   "outputs": [
    {
     "name": "stderr",
     "output_type": "stream",
     "text": [
      "ERROR:root:Internal Python error in the inspect module.\n",
      "Below is the traceback from this internal error.\n",
      "\n",
      "ERROR:root:Internal Python error in the inspect module.\n",
      "Below is the traceback from this internal error.\n",
      "\n"
     ]
    },
    {
     "name": "stdout",
     "output_type": "stream",
     "text": [
      "Traceback (most recent call last):\n",
      "  File \"/Users/xinyaoniu/anaconda3/lib/python3.7/site-packages/pandas/core/apply.py\", line 251, in apply_standard\n",
      "    labels=labels)\n",
      "  File \"pandas/_libs/reduction.pyx\", line 641, in pandas._libs.reduction.reduce\n",
      "  File \"pandas/_libs/reduction.pyx\", line 141, in pandas._libs.reduction.Reducer.get_result\n",
      "  File \"pandas/_libs/properties.pyx\", line 69, in pandas._libs.properties.AxisProperty.__set__\n",
      "  File \"/Users/xinyaoniu/anaconda3/lib/python3.7/site-packages/pandas/core/series.py\", line 378, in _set_axis\n",
      "    object.__setattr__(self, '_index', labels)\n",
      "KeyboardInterrupt\n",
      "\n",
      "During handling of the above exception, another exception occurred:\n",
      "\n",
      "Traceback (most recent call last):\n",
      "  File \"/Users/xinyaoniu/anaconda3/lib/python3.7/site-packages/IPython/core/interactiveshell.py\", line 3325, in run_code\n",
      "    exec(code_obj, self.user_global_ns, self.user_ns)\n",
      "  File \"<ipython-input-174-dbe191f1d8f8>\", line 6, in <module>\n",
      "    X_train_features['jaccard_followees'] = X_train.apply(lambda row:jaccard_followees(row['Source'], row['Sink']), axis=1)\n",
      "  File \"/Users/xinyaoniu/anaconda3/lib/python3.7/site-packages/pandas/core/frame.py\", line 6487, in apply\n",
      "    return op.get_result()\n",
      "  File \"/Users/xinyaoniu/anaconda3/lib/python3.7/site-packages/pandas/core/apply.py\", line 151, in get_result\n",
      "    return self.apply_standard()\n",
      "  File \"/Users/xinyaoniu/anaconda3/lib/python3.7/site-packages/pandas/core/apply.py\", line 251, in apply_standard\n",
      "    labels=labels)\n",
      "KeyboardInterrupt\n",
      "\n",
      "During handling of the above exception, another exception occurred:\n",
      "\n",
      "Traceback (most recent call last):\n",
      "  File \"/Users/xinyaoniu/anaconda3/lib/python3.7/site-packages/IPython/core/interactiveshell.py\", line 2039, in showtraceback\n",
      "    stb = value._render_traceback_()\n",
      "AttributeError: 'KeyboardInterrupt' object has no attribute '_render_traceback_'\n",
      "\n",
      "During handling of the above exception, another exception occurred:\n",
      "\n",
      "Traceback (most recent call last):\n",
      "  File \"/Users/xinyaoniu/anaconda3/lib/python3.7/site-packages/IPython/core/ultratb.py\", line 1101, in get_records\n",
      "    return _fixed_getinnerframes(etb, number_of_lines_of_context, tb_offset)\n",
      "  File \"/Users/xinyaoniu/anaconda3/lib/python3.7/site-packages/IPython/core/ultratb.py\", line 319, in wrapped\n",
      "    return f(*args, **kwargs)\n",
      "  File \"/Users/xinyaoniu/anaconda3/lib/python3.7/site-packages/IPython/core/ultratb.py\", line 353, in _fixed_getinnerframes\n",
      "    records = fix_frame_records_filenames(inspect.getinnerframes(etb, context))\n",
      "  File \"/Users/xinyaoniu/anaconda3/lib/python3.7/inspect.py\", line 1502, in getinnerframes\n",
      "    frameinfo = (tb.tb_frame,) + getframeinfo(tb, context)\n",
      "  File \"/Users/xinyaoniu/anaconda3/lib/python3.7/inspect.py\", line 1464, in getframeinfo\n",
      "    lines, lnum = findsource(frame)\n",
      "  File \"/Users/xinyaoniu/anaconda3/lib/python3.7/site-packages/IPython/core/ultratb.py\", line 226, in findsource\n",
      "    pat = re.compile(r'^(\\s*def\\s)|(.*(?<!\\w)lambda(:|\\s))|^(\\s*@)')\n",
      "  File \"/Users/xinyaoniu/anaconda3/lib/python3.7/re.py\", line 234, in compile\n",
      "    return _compile(pattern, flags)\n",
      "KeyboardInterrupt\n",
      "Traceback (most recent call last):\n",
      "  File \"/Users/xinyaoniu/anaconda3/lib/python3.7/site-packages/pandas/core/apply.py\", line 251, in apply_standard\n",
      "    labels=labels)\n",
      "  File \"pandas/_libs/reduction.pyx\", line 641, in pandas._libs.reduction.reduce\n",
      "  File \"pandas/_libs/reduction.pyx\", line 141, in pandas._libs.reduction.Reducer.get_result\n",
      "  File \"pandas/_libs/properties.pyx\", line 69, in pandas._libs.properties.AxisProperty.__set__\n",
      "  File \"/Users/xinyaoniu/anaconda3/lib/python3.7/site-packages/pandas/core/series.py\", line 378, in _set_axis\n",
      "    object.__setattr__(self, '_index', labels)\n",
      "KeyboardInterrupt\n",
      "\n",
      "During handling of the above exception, another exception occurred:\n",
      "\n",
      "Traceback (most recent call last):\n",
      "  File \"/Users/xinyaoniu/anaconda3/lib/python3.7/site-packages/IPython/core/interactiveshell.py\", line 3325, in run_code\n",
      "    exec(code_obj, self.user_global_ns, self.user_ns)\n",
      "  File \"<ipython-input-174-dbe191f1d8f8>\", line 6, in <module>\n",
      "    X_train_features['jaccard_followees'] = X_train.apply(lambda row:jaccard_followees(row['Source'], row['Sink']), axis=1)\n",
      "  File \"/Users/xinyaoniu/anaconda3/lib/python3.7/site-packages/pandas/core/frame.py\", line 6487, in apply\n",
      "    return op.get_result()\n",
      "  File \"/Users/xinyaoniu/anaconda3/lib/python3.7/site-packages/pandas/core/apply.py\", line 151, in get_result\n",
      "    return self.apply_standard()\n",
      "  File \"/Users/xinyaoniu/anaconda3/lib/python3.7/site-packages/pandas/core/apply.py\", line 251, in apply_standard\n",
      "    labels=labels)\n",
      "KeyboardInterrupt\n",
      "\n",
      "During handling of the above exception, another exception occurred:\n",
      "\n",
      "Traceback (most recent call last):\n",
      "  File \"/Users/xinyaoniu/anaconda3/lib/python3.7/site-packages/IPython/core/interactiveshell.py\", line 2039, in showtraceback\n",
      "    stb = value._render_traceback_()\n",
      "AttributeError: 'KeyboardInterrupt' object has no attribute '_render_traceback_'\n",
      "\n",
      "During handling of the above exception, another exception occurred:\n",
      "\n",
      "Traceback (most recent call last):\n",
      "  File \"/Users/xinyaoniu/anaconda3/lib/python3.7/site-packages/IPython/core/interactiveshell.py\", line 3248, in run_ast_nodes\n",
      "    if (await self.run_code(code, result,  async_=asy)):\n",
      "  File \"/Users/xinyaoniu/anaconda3/lib/python3.7/site-packages/IPython/core/interactiveshell.py\", line 3342, in run_code\n",
      "    self.showtraceback(running_compiled_code=True)\n",
      "  File \"/Users/xinyaoniu/anaconda3/lib/python3.7/site-packages/IPython/core/interactiveshell.py\", line 2042, in showtraceback\n",
      "    value, tb, tb_offset=tb_offset)\n",
      "  File \"/Users/xinyaoniu/anaconda3/lib/python3.7/site-packages/IPython/core/ultratb.py\", line 1385, in structured_traceback\n",
      "    self, etype, value, tb, tb_offset, number_of_lines_of_context)\n",
      "  File \"/Users/xinyaoniu/anaconda3/lib/python3.7/site-packages/IPython/core/ultratb.py\", line 1288, in structured_traceback\n",
      "    self, etype, value, tb, tb_offset, number_of_lines_of_context\n",
      "  File \"/Users/xinyaoniu/anaconda3/lib/python3.7/site-packages/IPython/core/ultratb.py\", line 1150, in structured_traceback\n",
      "    formatted_exceptions += self.prepare_chained_exception_message(evalue.__cause__)\n",
      "TypeError: can only concatenate str (not \"list\") to str\n",
      "\n",
      "During handling of the above exception, another exception occurred:\n",
      "\n",
      "Traceback (most recent call last):\n",
      "  File \"/Users/xinyaoniu/anaconda3/lib/python3.7/site-packages/IPython/core/interactiveshell.py\", line 2039, in showtraceback\n",
      "    stb = value._render_traceback_()\n",
      "AttributeError: 'TypeError' object has no attribute '_render_traceback_'\n",
      "\n",
      "During handling of the above exception, another exception occurred:\n",
      "\n",
      "Traceback (most recent call last):\n",
      "  File \"/Users/xinyaoniu/anaconda3/lib/python3.7/site-packages/IPython/core/ultratb.py\", line 1101, in get_records\n",
      "    return _fixed_getinnerframes(etb, number_of_lines_of_context, tb_offset)\n",
      "  File \"/Users/xinyaoniu/anaconda3/lib/python3.7/site-packages/IPython/core/ultratb.py\", line 319, in wrapped\n",
      "    return f(*args, **kwargs)\n",
      "  File \"/Users/xinyaoniu/anaconda3/lib/python3.7/site-packages/IPython/core/ultratb.py\", line 353, in _fixed_getinnerframes\n",
      "    records = fix_frame_records_filenames(inspect.getinnerframes(etb, context))\n",
      "  File \"/Users/xinyaoniu/anaconda3/lib/python3.7/inspect.py\", line 1502, in getinnerframes\n",
      "    frameinfo = (tb.tb_frame,) + getframeinfo(tb, context)\n",
      "  File \"/Users/xinyaoniu/anaconda3/lib/python3.7/inspect.py\", line 1460, in getframeinfo\n",
      "    filename = getsourcefile(frame) or getfile(frame)\n",
      "  File \"/Users/xinyaoniu/anaconda3/lib/python3.7/inspect.py\", line 696, in getsourcefile\n",
      "    if getattr(getmodule(object, filename), '__loader__', None) is not None:\n",
      "  File \"/Users/xinyaoniu/anaconda3/lib/python3.7/inspect.py\", line 733, in getmodule\n",
      "    if ismodule(module) and hasattr(module, '__file__'):\n",
      "KeyboardInterrupt\n"
     ]
    },
    {
     "name": "stderr",
     "output_type": "stream",
     "text": [
      "ERROR:root:Internal Python error in the inspect module.\n",
      "Below is the traceback from this internal error.\n",
      "\n"
     ]
    },
    {
     "name": "stdout",
     "output_type": "stream",
     "text": [
      "Traceback (most recent call last):\n",
      "  File \"/Users/xinyaoniu/anaconda3/lib/python3.7/site-packages/pandas/core/apply.py\", line 251, in apply_standard\n",
      "    labels=labels)\n",
      "  File \"pandas/_libs/reduction.pyx\", line 641, in pandas._libs.reduction.reduce\n",
      "  File \"pandas/_libs/reduction.pyx\", line 141, in pandas._libs.reduction.Reducer.get_result\n",
      "  File \"pandas/_libs/properties.pyx\", line 69, in pandas._libs.properties.AxisProperty.__set__\n",
      "  File \"/Users/xinyaoniu/anaconda3/lib/python3.7/site-packages/pandas/core/series.py\", line 378, in _set_axis\n",
      "    object.__setattr__(self, '_index', labels)\n",
      "KeyboardInterrupt\n",
      "\n",
      "During handling of the above exception, another exception occurred:\n",
      "\n",
      "Traceback (most recent call last):\n",
      "  File \"/Users/xinyaoniu/anaconda3/lib/python3.7/site-packages/IPython/core/interactiveshell.py\", line 3325, in run_code\n",
      "    exec(code_obj, self.user_global_ns, self.user_ns)\n",
      "  File \"<ipython-input-174-dbe191f1d8f8>\", line 6, in <module>\n",
      "    X_train_features['jaccard_followees'] = X_train.apply(lambda row:jaccard_followees(row['Source'], row['Sink']), axis=1)\n",
      "  File \"/Users/xinyaoniu/anaconda3/lib/python3.7/site-packages/pandas/core/frame.py\", line 6487, in apply\n",
      "    return op.get_result()\n",
      "  File \"/Users/xinyaoniu/anaconda3/lib/python3.7/site-packages/pandas/core/apply.py\", line 151, in get_result\n",
      "    return self.apply_standard()\n",
      "  File \"/Users/xinyaoniu/anaconda3/lib/python3.7/site-packages/pandas/core/apply.py\", line 251, in apply_standard\n",
      "    labels=labels)\n",
      "KeyboardInterrupt\n",
      "\n",
      "During handling of the above exception, another exception occurred:\n",
      "\n",
      "Traceback (most recent call last):\n",
      "  File \"/Users/xinyaoniu/anaconda3/lib/python3.7/site-packages/IPython/core/interactiveshell.py\", line 2039, in showtraceback\n",
      "    stb = value._render_traceback_()\n",
      "AttributeError: 'KeyboardInterrupt' object has no attribute '_render_traceback_'\n",
      "\n",
      "During handling of the above exception, another exception occurred:\n",
      "\n",
      "Traceback (most recent call last):\n",
      "  File \"/Users/xinyaoniu/anaconda3/lib/python3.7/site-packages/IPython/core/interactiveshell.py\", line 3248, in run_ast_nodes\n",
      "    if (await self.run_code(code, result,  async_=asy)):\n",
      "  File \"/Users/xinyaoniu/anaconda3/lib/python3.7/site-packages/IPython/core/interactiveshell.py\", line 3342, in run_code\n",
      "    self.showtraceback(running_compiled_code=True)\n",
      "  File \"/Users/xinyaoniu/anaconda3/lib/python3.7/site-packages/IPython/core/interactiveshell.py\", line 2042, in showtraceback\n",
      "    value, tb, tb_offset=tb_offset)\n",
      "  File \"/Users/xinyaoniu/anaconda3/lib/python3.7/site-packages/IPython/core/ultratb.py\", line 1385, in structured_traceback\n",
      "    self, etype, value, tb, tb_offset, number_of_lines_of_context)\n",
      "  File \"/Users/xinyaoniu/anaconda3/lib/python3.7/site-packages/IPython/core/ultratb.py\", line 1288, in structured_traceback\n",
      "    self, etype, value, tb, tb_offset, number_of_lines_of_context\n",
      "  File \"/Users/xinyaoniu/anaconda3/lib/python3.7/site-packages/IPython/core/ultratb.py\", line 1150, in structured_traceback\n",
      "    formatted_exceptions += self.prepare_chained_exception_message(evalue.__cause__)\n",
      "TypeError: can only concatenate str (not \"list\") to str\n",
      "\n",
      "During handling of the above exception, another exception occurred:\n",
      "\n",
      "Traceback (most recent call last):\n",
      "  File \"/Users/xinyaoniu/anaconda3/lib/python3.7/site-packages/IPython/core/interactiveshell.py\", line 2039, in showtraceback\n",
      "    stb = value._render_traceback_()\n",
      "AttributeError: 'TypeError' object has no attribute '_render_traceback_'\n",
      "\n",
      "During handling of the above exception, another exception occurred:\n",
      "\n",
      "Traceback (most recent call last):\n",
      "  File \"/Users/xinyaoniu/anaconda3/lib/python3.7/site-packages/IPython/core/ultratb.py\", line 1101, in get_records\n",
      "    return _fixed_getinnerframes(etb, number_of_lines_of_context, tb_offset)\n",
      "  File \"/Users/xinyaoniu/anaconda3/lib/python3.7/site-packages/IPython/core/ultratb.py\", line 319, in wrapped\n",
      "    return f(*args, **kwargs)\n",
      "  File \"/Users/xinyaoniu/anaconda3/lib/python3.7/site-packages/IPython/core/ultratb.py\", line 353, in _fixed_getinnerframes\n",
      "    records = fix_frame_records_filenames(inspect.getinnerframes(etb, context))\n",
      "  File \"/Users/xinyaoniu/anaconda3/lib/python3.7/inspect.py\", line 1502, in getinnerframes\n",
      "    frameinfo = (tb.tb_frame,) + getframeinfo(tb, context)\n",
      "  File \"/Users/xinyaoniu/anaconda3/lib/python3.7/inspect.py\", line 1460, in getframeinfo\n",
      "    filename = getsourcefile(frame) or getfile(frame)\n",
      "  File \"/Users/xinyaoniu/anaconda3/lib/python3.7/inspect.py\", line 696, in getsourcefile\n",
      "    if getattr(getmodule(object, filename), '__loader__', None) is not None:\n",
      "  File \"/Users/xinyaoniu/anaconda3/lib/python3.7/inspect.py\", line 734, in getmodule\n",
      "    f = module.__file__\n",
      "KeyboardInterrupt\n"
     ]
    },
    {
     "ename": "TypeError",
     "evalue": "can only concatenate str (not \"list\") to str",
     "output_type": "error",
     "traceback": [
      "\u001b[0;31m---------------------------------------------------------------------------\u001b[0m",
      "\nDuring handling of the above exception, another exception occurred:\n",
      "\nDuring handling of the above exception, another exception occurred:\n",
      "\u001b[0;31mAttributeError\u001b[0m                            Traceback (most recent call last)",
      "\u001b[0;32m~/anaconda3/lib/python3.7/site-packages/IPython/core/interactiveshell.py\u001b[0m in \u001b[0;36mshowtraceback\u001b[0;34m(self, exc_tuple, filename, tb_offset, exception_only, running_compiled_code)\u001b[0m\n\u001b[1;32m   2038\u001b[0m                         \u001b[0;31m# in the engines. This should return a list of strings.\u001b[0m\u001b[0;34m\u001b[0m\u001b[0;34m\u001b[0m\u001b[0;34m\u001b[0m\u001b[0m\n\u001b[0;32m-> 2039\u001b[0;31m                         \u001b[0mstb\u001b[0m \u001b[0;34m=\u001b[0m \u001b[0mvalue\u001b[0m\u001b[0;34m.\u001b[0m\u001b[0m_render_traceback_\u001b[0m\u001b[0;34m(\u001b[0m\u001b[0;34m)\u001b[0m\u001b[0;34m\u001b[0m\u001b[0;34m\u001b[0m\u001b[0m\n\u001b[0m\u001b[1;32m   2040\u001b[0m                     \u001b[0;32mexcept\u001b[0m \u001b[0mException\u001b[0m\u001b[0;34m:\u001b[0m\u001b[0;34m\u001b[0m\u001b[0;34m\u001b[0m\u001b[0m\n",
      "\u001b[0;31mAttributeError\u001b[0m: 'KeyboardInterrupt' object has no attribute '_render_traceback_'",
      "\nDuring handling of the above exception, another exception occurred:\n",
      "\u001b[0;31mTypeError\u001b[0m                                 Traceback (most recent call last)",
      "\u001b[0;32m~/anaconda3/lib/python3.7/site-packages/IPython/core/interactiveshell.py\u001b[0m in \u001b[0;36mrun_code\u001b[0;34m(self, code_obj, result, async_)\u001b[0m\n\u001b[1;32m   3340\u001b[0m             \u001b[0;32mif\u001b[0m \u001b[0mresult\u001b[0m \u001b[0;32mis\u001b[0m \u001b[0;32mnot\u001b[0m \u001b[0;32mNone\u001b[0m\u001b[0;34m:\u001b[0m\u001b[0;34m\u001b[0m\u001b[0;34m\u001b[0m\u001b[0m\n\u001b[1;32m   3341\u001b[0m                 \u001b[0mresult\u001b[0m\u001b[0;34m.\u001b[0m\u001b[0merror_in_exec\u001b[0m \u001b[0;34m=\u001b[0m \u001b[0msys\u001b[0m\u001b[0;34m.\u001b[0m\u001b[0mexc_info\u001b[0m\u001b[0;34m(\u001b[0m\u001b[0;34m)\u001b[0m\u001b[0;34m[\u001b[0m\u001b[0;36m1\u001b[0m\u001b[0;34m]\u001b[0m\u001b[0;34m\u001b[0m\u001b[0;34m\u001b[0m\u001b[0m\n\u001b[0;32m-> 3342\u001b[0;31m             \u001b[0mself\u001b[0m\u001b[0;34m.\u001b[0m\u001b[0mshowtraceback\u001b[0m\u001b[0;34m(\u001b[0m\u001b[0mrunning_compiled_code\u001b[0m\u001b[0;34m=\u001b[0m\u001b[0;32mTrue\u001b[0m\u001b[0;34m)\u001b[0m\u001b[0;34m\u001b[0m\u001b[0;34m\u001b[0m\u001b[0m\n\u001b[0m\u001b[1;32m   3343\u001b[0m         \u001b[0;32melse\u001b[0m\u001b[0;34m:\u001b[0m\u001b[0;34m\u001b[0m\u001b[0;34m\u001b[0m\u001b[0m\n\u001b[1;32m   3344\u001b[0m             \u001b[0moutflag\u001b[0m \u001b[0;34m=\u001b[0m \u001b[0;32mFalse\u001b[0m\u001b[0;34m\u001b[0m\u001b[0;34m\u001b[0m\u001b[0m\n",
      "\u001b[0;32m~/anaconda3/lib/python3.7/site-packages/IPython/core/interactiveshell.py\u001b[0m in \u001b[0;36mshowtraceback\u001b[0;34m(self, exc_tuple, filename, tb_offset, exception_only, running_compiled_code)\u001b[0m\n\u001b[1;32m   2040\u001b[0m                     \u001b[0;32mexcept\u001b[0m \u001b[0mException\u001b[0m\u001b[0;34m:\u001b[0m\u001b[0;34m\u001b[0m\u001b[0;34m\u001b[0m\u001b[0m\n\u001b[1;32m   2041\u001b[0m                         stb = self.InteractiveTB.structured_traceback(etype,\n\u001b[0;32m-> 2042\u001b[0;31m                                             value, tb, tb_offset=tb_offset)\n\u001b[0m\u001b[1;32m   2043\u001b[0m \u001b[0;34m\u001b[0m\u001b[0m\n\u001b[1;32m   2044\u001b[0m                     \u001b[0mself\u001b[0m\u001b[0;34m.\u001b[0m\u001b[0m_showtraceback\u001b[0m\u001b[0;34m(\u001b[0m\u001b[0metype\u001b[0m\u001b[0;34m,\u001b[0m \u001b[0mvalue\u001b[0m\u001b[0;34m,\u001b[0m \u001b[0mstb\u001b[0m\u001b[0;34m)\u001b[0m\u001b[0;34m\u001b[0m\u001b[0;34m\u001b[0m\u001b[0m\n",
      "\u001b[0;32m~/anaconda3/lib/python3.7/site-packages/IPython/core/ultratb.py\u001b[0m in \u001b[0;36mstructured_traceback\u001b[0;34m(self, etype, value, tb, tb_offset, number_of_lines_of_context)\u001b[0m\n\u001b[1;32m   1383\u001b[0m         \u001b[0mself\u001b[0m\u001b[0;34m.\u001b[0m\u001b[0mtb\u001b[0m \u001b[0;34m=\u001b[0m \u001b[0mtb\u001b[0m\u001b[0;34m\u001b[0m\u001b[0;34m\u001b[0m\u001b[0m\n\u001b[1;32m   1384\u001b[0m         return FormattedTB.structured_traceback(\n\u001b[0;32m-> 1385\u001b[0;31m             self, etype, value, tb, tb_offset, number_of_lines_of_context)\n\u001b[0m\u001b[1;32m   1386\u001b[0m \u001b[0;34m\u001b[0m\u001b[0m\n\u001b[1;32m   1387\u001b[0m \u001b[0;34m\u001b[0m\u001b[0m\n",
      "\u001b[0;32m~/anaconda3/lib/python3.7/site-packages/IPython/core/ultratb.py\u001b[0m in \u001b[0;36mstructured_traceback\u001b[0;34m(self, etype, value, tb, tb_offset, number_of_lines_of_context)\u001b[0m\n\u001b[1;32m   1286\u001b[0m             \u001b[0;31m# Verbose modes need a full traceback\u001b[0m\u001b[0;34m\u001b[0m\u001b[0;34m\u001b[0m\u001b[0;34m\u001b[0m\u001b[0m\n\u001b[1;32m   1287\u001b[0m             return VerboseTB.structured_traceback(\n\u001b[0;32m-> 1288\u001b[0;31m                 \u001b[0mself\u001b[0m\u001b[0;34m,\u001b[0m \u001b[0metype\u001b[0m\u001b[0;34m,\u001b[0m \u001b[0mvalue\u001b[0m\u001b[0;34m,\u001b[0m \u001b[0mtb\u001b[0m\u001b[0;34m,\u001b[0m \u001b[0mtb_offset\u001b[0m\u001b[0;34m,\u001b[0m \u001b[0mnumber_of_lines_of_context\u001b[0m\u001b[0;34m\u001b[0m\u001b[0;34m\u001b[0m\u001b[0m\n\u001b[0m\u001b[1;32m   1289\u001b[0m             )\n\u001b[1;32m   1290\u001b[0m         \u001b[0;32melif\u001b[0m \u001b[0mmode\u001b[0m \u001b[0;34m==\u001b[0m \u001b[0;34m'Minimal'\u001b[0m\u001b[0;34m:\u001b[0m\u001b[0;34m\u001b[0m\u001b[0;34m\u001b[0m\u001b[0m\n",
      "\u001b[0;32m~/anaconda3/lib/python3.7/site-packages/IPython/core/ultratb.py\u001b[0m in \u001b[0;36mstructured_traceback\u001b[0;34m(self, etype, evalue, etb, tb_offset, number_of_lines_of_context)\u001b[0m\n\u001b[1;32m   1148\u001b[0m         \u001b[0mexception\u001b[0m \u001b[0;34m=\u001b[0m \u001b[0mself\u001b[0m\u001b[0;34m.\u001b[0m\u001b[0mget_parts_of_chained_exception\u001b[0m\u001b[0;34m(\u001b[0m\u001b[0mevalue\u001b[0m\u001b[0;34m)\u001b[0m\u001b[0;34m\u001b[0m\u001b[0;34m\u001b[0m\u001b[0m\n\u001b[1;32m   1149\u001b[0m         \u001b[0;32mif\u001b[0m \u001b[0mexception\u001b[0m\u001b[0;34m:\u001b[0m\u001b[0;34m\u001b[0m\u001b[0;34m\u001b[0m\u001b[0m\n\u001b[0;32m-> 1150\u001b[0;31m             \u001b[0mformatted_exceptions\u001b[0m \u001b[0;34m+=\u001b[0m \u001b[0mself\u001b[0m\u001b[0;34m.\u001b[0m\u001b[0mprepare_chained_exception_message\u001b[0m\u001b[0;34m(\u001b[0m\u001b[0mevalue\u001b[0m\u001b[0;34m.\u001b[0m\u001b[0m__cause__\u001b[0m\u001b[0;34m)\u001b[0m\u001b[0;34m\u001b[0m\u001b[0;34m\u001b[0m\u001b[0m\n\u001b[0m\u001b[1;32m   1151\u001b[0m             \u001b[0metype\u001b[0m\u001b[0;34m,\u001b[0m \u001b[0mevalue\u001b[0m\u001b[0;34m,\u001b[0m \u001b[0metb\u001b[0m \u001b[0;34m=\u001b[0m \u001b[0mexception\u001b[0m\u001b[0;34m\u001b[0m\u001b[0;34m\u001b[0m\u001b[0m\n\u001b[1;32m   1152\u001b[0m         \u001b[0;32melse\u001b[0m\u001b[0;34m:\u001b[0m\u001b[0;34m\u001b[0m\u001b[0;34m\u001b[0m\u001b[0m\n",
      "\u001b[0;31mTypeError\u001b[0m: can only concatenate str (not \"list\") to str"
     ]
    }
   ],
   "source": [
    "#mapping jaccrd followers to train and test data\n",
    "X_train_features['jaccard_followers'] = X_train.apply(lambda row:jaccard_followers(row['Source'], row['Sink']), axis=1)\n",
    "X_test_features['jaccard_followers'] = X_test.apply(lambda row:jaccard_followers(row['Source'], row['Sink']),axis=1)\n",
    "\n",
    "#mapping jaccrd followees to train and test data\n",
    "X_train_features['jaccard_followees'] = X_train.apply(lambda row:jaccard_followees(row['Source'], row['Sink']), axis=1)\n",
    "X_test_features['jaccard_followees'] = X_test.apply(lambda row:jaccard_followees(row['Source'], row['Sink']), axis=1)\n",
    "\n",
    "#mapping jaccrd followers to train and test data\n",
    "X_train_features['cosine_followers'] = X_train.apply(lambda row:cosine_followers(row['Source'], row['Sink']), axis=1)\n",
    "X_test_features['cosine_followers'] = X_test.apply(lambda row:cosine_followers(row['Source'], row['Sink']), axis=1)\n",
    "\n",
    "#mapping jaccrd followees to train and test data\n",
    "X_train_features['cosine_followees'] = X_train.apply(lambda row:cosine_followees(row['Source'], row['Sink']), axis=1)\n",
    "X_test_features['cosine_followees'] = X_test.apply(lambda row:cosine_followees(row['Source'], row['Sink']), axis=1)"
   ]
  },
  {
   "cell_type": "code",
   "execution_count": null,
   "metadata": {},
   "outputs": [],
   "source": [
    "def compute_features_stage1(df_final):\n",
    "    #calculating # of followers followees for source and destination\n",
    "    #calculating intersection of followers and followees for source and destination\n",
    "    num_followers_s=[]\n",
    "    num_followees_s=[]\n",
    "    num_followers_d=[]\n",
    "    num_followees_d=[]\n",
    "    inter_followers=[]\n",
    "    inter_followees=[]\n",
    "    \n",
    "    for i, row in df_final.iterrows():\n",
    "        try:\n",
    "            s1 = set(train_graph.predecessors(row['Source']))\n",
    "            s2 = set(train_graph.successors(row['Sink']))\n",
    "        except:\n",
    "            s1 = set()\n",
    "            s2 = set()\n",
    "        try:\n",
    "            d1 = set(train_graph.predecessors(row['Source']))\n",
    "            d2 = set(train_graph.successors(row['Sink']))\n",
    "        except:\n",
    "            d1 = set()\n",
    "            d2 = set()\n",
    "        num_followers_s.append(len(s1))\n",
    "        num_followees_s.append(len(s2))\n",
    "\n",
    "        num_followers_d.append(len(d1))\n",
    "        num_followees_d.append(len(d2))\n",
    "\n",
    "        inter_followers.append(len(s1.intersection(d1)))\n",
    "        inter_followees.append(len(s2.intersection(d2)))\n",
    "    \n",
    "    return num_followers_s, num_followers_d, num_followees_s, num_followees_d, inter_followers, inter_followees\n",
    "\n",
    "X_train_features['num_followers_s'], X_train_features['num_followers_d'], \\\n",
    "X_train_featuresn['num_followees_s'], X_train_features['num_followees_d'], \\\n",
    "X_train_features['inter_followers'], X_train_features['inter_followees'] = compute_features_stage1(X_train)\n",
    "\n",
    "X_test_features['num_followers_s'], X_test_features['num_followers_d'], \\\n",
    "X_test_features['num_followees_s'], X_test_features['num_followees_d'], \\\n",
    "X_test_features['inter_followers'], X_test_features['inter_followees'] = compute_features_stage1(X_test)"
   ]
  },
  {
   "cell_type": "code",
   "execution_count": null,
   "metadata": {},
   "outputs": [],
   "source": [
    "# mapping adar index\n",
    "X_train_features['adar_index'] = X_train.apply(lambda row: calc_adar_in(row['Source'], row['Sink']), axis=1)\n",
    "X_test_features[''] = X_test.apply(lambda row: calc_adar_in(row['Source'], row['Sink']), axis=1)\n",
    "\n",
    "# mapping followback\n",
    "X_train_features['follows_back'] = X_train.apply(lambda row: follows_back(row['Source'], row['Sink']), axis=1)\n",
    "X_test_features['follows_back'] = X_test.apply(lambda row: follows_back(row['Source'], row['Sink']), axis=1)"
   ]
  },
  {
   "cell_type": "code",
   "execution_count": null,
   "metadata": {},
   "outputs": [],
   "source": [
    "# mapping wcc\n",
    "X_train_features['same_wcc'] = X_train.apply(lambda row: belongs_to_same_wcc(row['Source'], row['Sink']), axis=1)\n",
    "X_test_features['same_wcc'] = X_test.apply(lambda row: belongs_to_same_wcc(row['Source'], row['Sink']), axis=1)"
   ]
  },
  {
   "cell_type": "code",
   "execution_count": null,
   "metadata": {},
   "outputs": [],
   "source": [
    "X_train_features['same_wcc'] = X_train.apply(lambda row: belongs_to_same_wcc(row['Source'], row['Sink']), axis=1)\n",
    "X_test_features['same_wcc'] = X_test.apply(lambda row: belongs_to_same_wcc(row['Source'], row['Sink']), axis=1)"
   ]
  },
  {
   "cell_type": "code",
   "execution_count": null,
   "metadata": {},
   "outputs": [],
   "source": [
    "X_train_features['shortest_path'] = X_train.apply(lambda row: compute_shortest_path_length(row['Source'], row['Sink']), axis=1)\n",
    "X_test_features['shortest_path'] = X_test.apply(lambda row: compute_shortest_path_length(row['Source'], row['Sink']), axis=1)"
   ]
  },
  {
   "cell_type": "code",
   "execution_count": null,
   "metadata": {},
   "outputs": [],
   "source": [
    "X_train_features['page_rank_s'] = X_train['Source'].apply(lambda x:pr.get(x, mean_pr))\n",
    "X_train_features['page_rank_d'] = X_train['Sink'].apply(lambda x:pr.get(x, mean_pr))\n",
    "X_test_features['page_rank_s'] = X_test['Source'].apply(lambda x:pr.get(x, mean_pr))\n",
    "X_test_features['page_rank_d'] = X_test['Sink'].apply(lambda x:pr.get(x, mean_pr))"
   ]
  },
  {
   "cell_type": "code",
   "execution_count": null,
   "metadata": {},
   "outputs": [],
   "source": [
    "#Katz centrality score for source and destination in Train and test\n",
    "#if anything not there in train graph then adding mean katz score\n",
    "X_train_features['katz_s'] = X_train['Source'].apply(lambda x: katz.get(x,mean_katz))\n",
    "X_train_features['katz_d'] = X_train['Sink'].apply(lambda x: katz.get(x,mean_katz))\n",
    "X_test_features['katz_s'] = X_test['Source'].apply(lambda x: katz.get(x,mean_katz))\n",
    "X_test_features['katz_d'] = X_test['Sink'].apply(lambda x: katz.get(x,mean_katz))"
   ]
  },
  {
   "cell_type": "code",
   "execution_count": null,
   "metadata": {},
   "outputs": [],
   "source": [
    "#Hits algorithm score for source and destination in Train and test\n",
    "#if anything not there in train graph then adding 0\n",
    "X_train_features['hubs_s'] = X_train['Source'].apply(lambda x: hits[0].get(x,0))\n",
    "X_train_features['hubs_d'] = X_train['Sink'].apply(lambda x: hits[0].get(x,0))\n",
    "X_test_features['hubs_s'] = X_test['Source'].apply(lambda x: hits[0].get(x,0))\n",
    "X_test_features['hubs_d'] = X_test['Sink'].apply(lambda x: hits[0].get(x,0))"
   ]
  },
  {
   "cell_type": "code",
   "execution_count": null,
   "metadata": {},
   "outputs": [],
   "source": [
    "X_train_features['authorities_s'] = X_train['Source'].apply(lambda x: hits[1].get(x,0))\n",
    "X_train_features['authorities_d'] = X_train['Sink'].apply(lambda x: hits[1].get(x,0))\n",
    "X_test_features['authorities_s'] = X_test['Source'].apply(lambda x: hits[1].get(x,0))\n",
    "X_test_features['authorities_d'] = X_test['Sink'].apply(lambda x: hits[1].get(x,0))"
   ]
  },
  {
   "cell_type": "code",
   "execution_count": null,
   "metadata": {},
   "outputs": [],
   "source": [
    "pickle.dump(X_train_features, open('data/X_train_features.p','wb'))\n",
    "pickle.dump(X_test_features, open('data/X_test_features.p','wb'))"
   ]
  },
  {
   "cell_type": "markdown",
   "metadata": {},
   "source": [
    "# Build the model"
   ]
  },
  {
   "cell_type": "code",
   "execution_count": null,
   "metadata": {},
   "outputs": [],
   "source": []
  }
 ],
 "metadata": {
  "kernelspec": {
   "display_name": "Python 3",
   "language": "python",
   "name": "python3"
  },
  "language_info": {
   "codemirror_mode": {
    "name": "ipython",
    "version": 3
   },
   "file_extension": ".py",
   "mimetype": "text/x-python",
   "name": "python",
   "nbconvert_exporter": "python",
   "pygments_lexer": "ipython3",
   "version": "3.7.3"
  }
 },
 "nbformat": 4,
 "nbformat_minor": 4
}
