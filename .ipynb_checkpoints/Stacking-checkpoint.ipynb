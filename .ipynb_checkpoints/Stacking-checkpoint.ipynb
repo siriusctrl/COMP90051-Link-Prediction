{
 "cells": [
  {
   "cell_type": "code",
   "execution_count": 1,
   "metadata": {},
   "outputs": [],
   "source": [
    "import numpy as np\n",
    "import pandas as pd\n",
    "from sklearn.ensemble import StackingClassifier\n",
    "\n",
    "from sklearn.neighbors import KNeighborsClassifier\n",
    "from sklearn.tree import ExtraTreeClassifier\n",
    "from sklearn.ensemble import AdaBoostClassifier"
   ]
  },
  {
   "cell_type": "code",
   "execution_count": 2,
   "metadata": {},
   "outputs": [],
   "source": [
    "import pickle\n",
    "with open(\"data/all_train_features1.p\", \"rb\") as f:\n",
    "    X = pickle.load(f)"
   ]
  },
  {
   "cell_type": "code",
   "execution_count": 3,
   "metadata": {},
   "outputs": [],
   "source": [
    "with open(\"data/all_test_features1.p\", \"rb\") as f:\n",
    "    X_test = pickle.load(f)"
   ]
  },
  {
   "cell_type": "code",
   "execution_count": 4,
   "metadata": {},
   "outputs": [],
   "source": [
    "with open(\"data/y_desire_train_data_label1.p\", \"rb\") as f:\n",
    "    y = pickle.load(f)"
   ]
  },
  {
   "cell_type": "code",
   "execution_count": 5,
   "metadata": {},
   "outputs": [],
   "source": [
    "with open(\"data/y_desire_test_data_label1.p\", \"rb\") as f:\n",
    "    y_test = pickle.load(f)"
   ]
  },
  {
   "cell_type": "code",
   "execution_count": 6,
   "metadata": {},
   "outputs": [],
   "source": [
    "with open(\"data/all_sub_features1.p\", \"rb\") as f:\n",
    "    sub_features = pickle.load(f)"
   ]
  },
  {
   "cell_type": "code",
   "execution_count": 7,
   "metadata": {},
   "outputs": [],
   "source": [
    "import lightgbm\n",
    "import xgboost\n",
    "\n",
    "lgb_clf_dart = lightgbm.LGBMClassifier(boosting_type='dart',learning_rate=0.15,\n",
    "                                               subsample=0.5,\n",
    "                                               num_leaves=20)\n",
    "\n",
    "lgb_clf_gbdt = lightgbm.LGBMClassifier(boosting_type='gbdt',learning_rate=0.1,\n",
    "                                               subsample=0.5,max_depth=4,\n",
    "                                               num_leaves=20)\n",
    "\n",
    "lgb_clf_rf = lightgbm.LGBMClassifier(boosting_type='rf',bagging_freq=1,\n",
    "                                               bagging_fraction=0.75,feature_fraction=0.75,\n",
    "                                               num_leaves=20)\n",
    "\n",
    "xgb_clf_gbdt = xgboost.XGBClassifier(booster='gbtree',colsample_bylevel=0.75,\n",
    "                                             learning_rate=0.05,max_depth=6,\n",
    "                                             n_estimators=200,subsample=0.6)\n",
    "\n",
    "xgb_clf_dart = xgboost.XGBClassifier(booster='dart',colsample_bylevel=0.85,\n",
    "                                             learning_rate=0.05,max_depth=8,\n",
    "                                             n_estimators=200,subsample=0.75)"
   ]
  },
  {
   "cell_type": "code",
   "execution_count": 11,
   "metadata": {},
   "outputs": [],
   "source": [
    "from sklearn.model_selection import GridSearchCV\n",
    "from sklearn.ensemble import RandomForestClassifier\n",
    "\n",
    "base = RandomForestClassifier()\n",
    "rf_param = {\n",
    "#     \"max_depth\":[7,9,11,13],\n",
    "    \"max_depth\":[17,19,21],\n",
    "#     \"min_samples_leaf\":[1,3,5],\n",
    "    \"min_samples_leaf\":[1],\n",
    "#     \"min_samples_split\":[2,4,6,8,10],\n",
    "    \"min_samples_split\":[4],\n",
    "#     \"max_features\":[\"sqrt\", \"log2\"],\n",
    "    \"max_features\":[\"log2\"],\n",
    "#     \"n_estimators\":[100]\n",
    "    \"n_estimators\":[800,1000,1200,1400]\n",
    "}\n",
    "\n",
    "rf_grid = GridSearchCV(base, rf_param, n_jobs=-1, scoring='roc_auc')"
   ]
  },
  {
   "cell_type": "code",
   "execution_count": 12,
   "metadata": {},
   "outputs": [],
   "source": [
    "from sklearn.metrics import roc_auc_score\n",
    "def evaluate_roc_auc(clf, features, labels):\n",
    "    predicted = clf.predict_proba(features)\n",
    "\n",
    "    # check which class corresponds to positive links\n",
    "    positive_column = list(clf.classes_).index(1)\n",
    "    return roc_auc_score(labels, predicted[:, positive_column])"
   ]
  },
  {
   "cell_type": "code",
   "execution_count": 13,
   "metadata": {},
   "outputs": [],
   "source": [
    "estimators=[\n",
    "    ('lgb_dart', lgb_clf_dart), \n",
    "    ('lgb_gbdt', lgb_clf_gbdt), \n",
    "    ('lgb_rf', lgb_clf_rf), \n",
    "    ('xgb_dart', xgb_clf_dart), \n",
    "    ('xgb_gbdt', xgb_clf_gbdt),\n",
    "    ('rf', RandomForestClassifier(n_estimators=1000, max_depth=17, n_jobs=-1)),\n",
    "    ('ada', AdaBoostClassifier(n_estimators=200, learning_rate=0.5)),\n",
    "    ('extraTree', ExtraTreeClassifier(splitter=\"random\",min_samples_split=26)),\n",
    "    ('knn', KNeighborsClassifier(n_neighbors=15))\n",
    "]"
   ]
  },
  {
   "cell_type": "code",
   "execution_count": 15,
   "metadata": {},
   "outputs": [],
   "source": [
    "params = {\"learning_rate\":[0.01,0.03,0.05,0.1],\n",
    "                  \"max_depth\":[2,4,6,8,10],\n",
    "                  \"subsample\":[0.6,0.75,0.85,1],\n",
    "                  \"colsample_bylevel\":[0.6,0.75,0.85,1]}\n",
    "\n",
    "final_base = xgboost.XGBClassifier(n_estimators=200,booster=\"gbtree\")\n",
    "final = GridSearchCV(final_base, params, n_jobs=-1, scoring='roc_auc', verbose=1)"
   ]
  },
  {
   "cell_type": "code",
   "execution_count": 17,
   "metadata": {},
   "outputs": [],
   "source": [
    "from sklearn.ensemble import StackingClassifier\n",
    "stacking = StackingClassifier(estimators=estimators, final_estimator=rf_grid, n_jobs=-1, verbose=1)"
   ]
  },
  {
   "cell_type": "code",
   "execution_count": null,
   "metadata": {},
   "outputs": [],
   "source": [
    "stacking.fit(X, y)"
   ]
  },
  {
   "cell_type": "code",
   "execution_count": 91,
   "metadata": {},
   "outputs": [
    {
     "data": {
      "text/plain": [
       "GridSearchCV(estimator=RandomForestClassifier(), n_jobs=-1,\n",
       "             param_grid={'max_depth': [17, 19, 21], 'max_features': ['log2'],\n",
       "                         'min_samples_leaf': [1], 'min_samples_split': [4],\n",
       "                         'n_estimators': [800, 1000, 1200, 1400]},\n",
       "             scoring='roc_auc')"
      ]
     },
     "execution_count": 91,
     "metadata": {},
     "output_type": "execute_result"
    }
   ],
   "source": [
    "rf_grid.fit(X,y)"
   ]
  },
  {
   "cell_type": "code",
   "execution_count": 92,
   "metadata": {},
   "outputs": [
    {
     "data": {
      "text/plain": [
       "array([0.98991381, 0.24064671, 1.        , ..., 0.99875   , 0.9840873 ,\n",
       "       0.99207261])"
      ]
     },
     "execution_count": 92,
     "metadata": {},
     "output_type": "execute_result"
    }
   ],
   "source": [
    "rf_grid.predict_proba(X_test)[:,1]"
   ]
  },
  {
   "cell_type": "code",
   "execution_count": 82,
   "metadata": {},
   "outputs": [
    {
     "data": {
      "text/plain": [
       "array([0.92789286, 0.25784343, 0.9283412 , ..., 0.9283412 , 0.9283412 ,\n",
       "       0.92497003], dtype=float32)"
      ]
     },
     "execution_count": 82,
     "metadata": {},
     "output_type": "execute_result"
    }
   ],
   "source": [
    "stacking.predict_proba(X_test)[:,1]"
   ]
  },
  {
   "cell_type": "code",
   "execution_count": 66,
   "metadata": {},
   "outputs": [
    {
     "data": {
      "text/plain": [
       "array([0.99614888, 0.24602529, 1.        , ..., 0.994375  , 0.99875   ,\n",
       "       0.99856252])"
      ]
     },
     "execution_count": 66,
     "metadata": {},
     "output_type": "execute_result"
    }
   ],
   "source": [
    "stacking.predict_proba(X_test)[:,1]"
   ]
  },
  {
   "cell_type": "code",
   "execution_count": 67,
   "metadata": {},
   "outputs": [
    {
     "data": {
      "text/plain": [
       "array([[0.00385112, 0.99614888],\n",
       "       [0.75397471, 0.24602529],\n",
       "       [0.        , 1.        ],\n",
       "       ...,\n",
       "       [0.005625  , 0.994375  ],\n",
       "       [0.00125   , 0.99875   ],\n",
       "       [0.00143748, 0.99856252]])"
      ]
     },
     "execution_count": 67,
     "metadata": {},
     "output_type": "execute_result"
    }
   ],
   "source": [
    "stacking.predict_proba(X_test)"
   ]
  },
  {
   "cell_type": "code",
   "execution_count": 46,
   "metadata": {},
   "outputs": [],
   "source": [
    "from sklearn.metrics import roc_auc_score"
   ]
  },
  {
   "cell_type": "code",
   "execution_count": 93,
   "metadata": {},
   "outputs": [
    {
     "data": {
      "text/plain": [
       "0.927381086607445"
      ]
     },
     "execution_count": 93,
     "metadata": {},
     "output_type": "execute_result"
    }
   ],
   "source": [
    "roc_auc_score(y_test, rf_grid.predict_proba(X_test)[:,1])"
   ]
  },
  {
   "cell_type": "code",
   "execution_count": 84,
   "metadata": {},
   "outputs": [
    {
     "data": {
      "text/plain": [
       "array([[0.7974776 , 0.20252241],\n",
       "       [0.7260681 , 0.27393192],\n",
       "       [0.07171911, 0.9282809 ],\n",
       "       ...,\n",
       "       [0.71837294, 0.28162703],\n",
       "       [0.6508734 , 0.34912658],\n",
       "       [0.6707602 , 0.3292398 ]], dtype=float32)"
      ]
     },
     "execution_count": 84,
     "metadata": {},
     "output_type": "execute_result"
    }
   ],
   "source": [
    "stacking.predict_proba(sub_features)"
   ]
  },
  {
   "cell_type": "code",
   "execution_count": 95,
   "metadata": {},
   "outputs": [
    {
     "data": {
      "text/plain": [
       "839"
      ]
     },
     "execution_count": 95,
     "metadata": {},
     "output_type": "execute_result"
    }
   ],
   "source": [
    "sum(rf_grid.predict(sub_features))"
   ]
  },
  {
   "cell_type": "code",
   "execution_count": 94,
   "metadata": {},
   "outputs": [],
   "source": [
    "y_sub = rf_grid.predict_proba(sub_features)"
   ]
  },
  {
   "cell_type": "code",
   "execution_count": 96,
   "metadata": {},
   "outputs": [],
   "source": [
    "result = pd.DataFrame(data={\"Id\":range(1,len(y_sub)+1), \"Predicted\":[x[1] for x in y_sub]})"
   ]
  },
  {
   "cell_type": "code",
   "execution_count": 97,
   "metadata": {},
   "outputs": [
    {
     "data": {
      "text/html": [
       "<div>\n",
       "<style scoped>\n",
       "    .dataframe tbody tr th:only-of-type {\n",
       "        vertical-align: middle;\n",
       "    }\n",
       "\n",
       "    .dataframe tbody tr th {\n",
       "        vertical-align: top;\n",
       "    }\n",
       "\n",
       "    .dataframe thead th {\n",
       "        text-align: right;\n",
       "    }\n",
       "</style>\n",
       "<table border=\"1\" class=\"dataframe\">\n",
       "  <thead>\n",
       "    <tr style=\"text-align: right;\">\n",
       "      <th></th>\n",
       "      <th>Id</th>\n",
       "      <th>Predicted</th>\n",
       "    </tr>\n",
       "  </thead>\n",
       "  <tbody>\n",
       "    <tr>\n",
       "      <th>0</th>\n",
       "      <td>1</td>\n",
       "      <td>0.077820</td>\n",
       "    </tr>\n",
       "    <tr>\n",
       "      <th>1</th>\n",
       "      <td>2</td>\n",
       "      <td>0.119310</td>\n",
       "    </tr>\n",
       "    <tr>\n",
       "      <th>2</th>\n",
       "      <td>3</td>\n",
       "      <td>0.996667</td>\n",
       "    </tr>\n",
       "    <tr>\n",
       "      <th>3</th>\n",
       "      <td>4</td>\n",
       "      <td>0.185133</td>\n",
       "    </tr>\n",
       "    <tr>\n",
       "      <th>4</th>\n",
       "      <td>5</td>\n",
       "      <td>0.058946</td>\n",
       "    </tr>\n",
       "    <tr>\n",
       "      <th>...</th>\n",
       "      <td>...</td>\n",
       "      <td>...</td>\n",
       "    </tr>\n",
       "    <tr>\n",
       "      <th>1995</th>\n",
       "      <td>1996</td>\n",
       "      <td>0.208104</td>\n",
       "    </tr>\n",
       "    <tr>\n",
       "      <th>1996</th>\n",
       "      <td>1997</td>\n",
       "      <td>0.078458</td>\n",
       "    </tr>\n",
       "    <tr>\n",
       "      <th>1997</th>\n",
       "      <td>1998</td>\n",
       "      <td>0.173000</td>\n",
       "    </tr>\n",
       "    <tr>\n",
       "      <th>1998</th>\n",
       "      <td>1999</td>\n",
       "      <td>0.210805</td>\n",
       "    </tr>\n",
       "    <tr>\n",
       "      <th>1999</th>\n",
       "      <td>2000</td>\n",
       "      <td>0.127941</td>\n",
       "    </tr>\n",
       "  </tbody>\n",
       "</table>\n",
       "<p>2000 rows × 2 columns</p>\n",
       "</div>"
      ],
      "text/plain": [
       "        Id  Predicted\n",
       "0        1   0.077820\n",
       "1        2   0.119310\n",
       "2        3   0.996667\n",
       "3        4   0.185133\n",
       "4        5   0.058946\n",
       "...    ...        ...\n",
       "1995  1996   0.208104\n",
       "1996  1997   0.078458\n",
       "1997  1998   0.173000\n",
       "1998  1999   0.210805\n",
       "1999  2000   0.127941\n",
       "\n",
       "[2000 rows x 2 columns]"
      ]
     },
     "execution_count": 97,
     "metadata": {},
     "output_type": "execute_result"
    }
   ],
   "source": [
    "result"
   ]
  },
  {
   "cell_type": "code",
   "execution_count": 98,
   "metadata": {},
   "outputs": [],
   "source": [
    "result.to_csv('submissioin.csv', index=False)"
   ]
  },
  {
   "cell_type": "code",
   "execution_count": null,
   "metadata": {},
   "outputs": [],
   "source": []
  }
 ],
 "metadata": {
  "kernelspec": {
   "display_name": "Python 3",
   "language": "python",
   "name": "python3"
  },
  "language_info": {
   "codemirror_mode": {
    "name": "ipython",
    "version": 3
   },
   "file_extension": ".py",
   "mimetype": "text/x-python",
   "name": "python",
   "nbconvert_exporter": "python",
   "pygments_lexer": "ipython3",
   "version": "3.7.3"
  }
 },
 "nbformat": 4,
 "nbformat_minor": 4
}
